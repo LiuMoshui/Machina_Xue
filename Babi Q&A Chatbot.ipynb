{
 "cells": [
  {
   "cell_type": "markdown",
   "metadata": {},
   "source": [
    "# Babi Q&A Chatbot Project"
   ]
  },
  {
   "cell_type": "markdown",
   "metadata": {},
   "source": [
    "## Overview:"
   ]
  },
  {
   "cell_type": "markdown",
   "metadata": {},
   "source": [
    "### This project is based on the Babi dataset from Facebook Research\n",
    "The bAbI dataset, created by Facebook, is a collection of tasks designed for testing text understanding and reasoning in natural language processing. It includes 20 unique tasks, each testing a different aspect of text and reasoning. For each task, there are 1000 questions for training and 1000 for testing. The goal is to use as little data as possible to do well on the tasks without resorting to task-specific tricks."
   ]
  },
  {
   "cell_type": "markdown",
   "metadata": {},
   "source": [
    "## Useful Links:\n",
    "#### https://www.kaggle.com/datasets/roblexnana/the-babi-tasks-for-nlp-qa-system\n",
    "#### http://arxiv.org/abs/1502.05698\n",
    "#### http://www.thespermwhale.com/jaseweston/babi/abordes-ICLR.pdf\n",
    "#### https://arxiv.org/abs/1503.08895"
   ]
  },
  {
   "cell_type": "markdown",
   "metadata": {},
   "source": [
    "## Loading the data"
   ]
  },
  {
   "cell_type": "code",
   "execution_count": 1,
   "metadata": {},
   "outputs": [],
   "source": [
    "import pickle\n",
    "import numpy as np"
   ]
  },
  {
   "cell_type": "code",
   "execution_count": 2,
   "metadata": {},
   "outputs": [],
   "source": [
    "# Using the 'with' statement to open a file ensures that it's properly closed after its associated block of code is executed.\n",
    "with open(\"train_qa.txt\", \"rb\") as fp:   # Unpickling\n",
    "    train_data =  pickle.load(fp)"
   ]
  },
  {
   "cell_type": "code",
   "execution_count": 3,
   "metadata": {},
   "outputs": [],
   "source": [
    "with open(\"test_qa.txt\", \"rb\") as fp:   # Unpickling\n",
    "    test_data =  pickle.load(fp)"
   ]
  },
  {
   "cell_type": "markdown",
   "metadata": {},
   "source": [
    "---"
   ]
  },
  {
   "cell_type": "markdown",
   "metadata": {},
   "source": [
    "## Exploring the Format of the Data"
   ]
  },
  {
   "cell_type": "code",
   "execution_count": 4,
   "metadata": {},
   "outputs": [
    {
     "data": {
      "text/plain": [
       "list"
      ]
     },
     "execution_count": 4,
     "metadata": {},
     "output_type": "execute_result"
    }
   ],
   "source": [
    "type(test_data)"
   ]
  },
  {
   "cell_type": "code",
   "execution_count": 5,
   "metadata": {},
   "outputs": [
    {
     "data": {
      "text/plain": [
       "list"
      ]
     },
     "execution_count": 5,
     "metadata": {},
     "output_type": "execute_result"
    }
   ],
   "source": [
    "type(train_data)"
   ]
  },
  {
   "cell_type": "code",
   "execution_count": 6,
   "metadata": {},
   "outputs": [
    {
     "data": {
      "text/plain": [
       "1000"
      ]
     },
     "execution_count": 6,
     "metadata": {},
     "output_type": "execute_result"
    }
   ],
   "source": [
    "len(test_data)"
   ]
  },
  {
   "cell_type": "code",
   "execution_count": 7,
   "metadata": {},
   "outputs": [
    {
     "data": {
      "text/plain": [
       "10000"
      ]
     },
     "execution_count": 7,
     "metadata": {},
     "output_type": "execute_result"
    }
   ],
   "source": [
    "len(train_data)"
   ]
  },
  {
   "cell_type": "code",
   "execution_count": 8,
   "metadata": {},
   "outputs": [
    {
     "data": {
      "text/plain": [
       "(['Mary',\n",
       "  'moved',\n",
       "  'to',\n",
       "  'the',\n",
       "  'bathroom',\n",
       "  '.',\n",
       "  'Sandra',\n",
       "  'journeyed',\n",
       "  'to',\n",
       "  'the',\n",
       "  'bedroom',\n",
       "  '.'],\n",
       " ['Is', 'Sandra', 'in', 'the', 'hallway', '?'],\n",
       " 'no')"
      ]
     },
     "execution_count": 8,
     "metadata": {},
     "output_type": "execute_result"
    }
   ],
   "source": [
    "# Each item in the train/test dataset is organized as a tuple of story, question, and answer.\n",
    "train_data[0]"
   ]
  },
  {
   "cell_type": "code",
   "execution_count": 9,
   "metadata": {},
   "outputs": [
    {
     "data": {
      "text/plain": [
       "'Mary moved to the bathroom . Sandra journeyed to the bedroom .'"
      ]
     },
     "execution_count": 9,
     "metadata": {},
     "output_type": "execute_result"
    }
   ],
   "source": [
    "# Story\n",
    "' '.join(train_data[0][0])"
   ]
  },
  {
   "cell_type": "code",
   "execution_count": 10,
   "metadata": {},
   "outputs": [
    {
     "data": {
      "text/plain": [
       "'Is Sandra in the hallway ?'"
      ]
     },
     "execution_count": 10,
     "metadata": {},
     "output_type": "execute_result"
    }
   ],
   "source": [
    "# Question\n",
    "' '.join(train_data[0][1])"
   ]
  },
  {
   "cell_type": "code",
   "execution_count": 11,
   "metadata": {},
   "outputs": [
    {
     "data": {
      "text/plain": [
       "'no'"
      ]
     },
     "execution_count": 11,
     "metadata": {},
     "output_type": "execute_result"
    }
   ],
   "source": [
    "# Answer\n",
    "train_data[0][2]"
   ]
  },
  {
   "cell_type": "markdown",
   "metadata": {},
   "source": [
    "-----\n",
    "\n",
    "## Setting up Vocabulary of All Words"
   ]
  },
  {
   "cell_type": "code",
   "execution_count": 12,
   "metadata": {},
   "outputs": [],
   "source": [
    "# Creating a set that holds the vocabulary words\n",
    "vocab = set()"
   ]
  },
  {
   "cell_type": "code",
   "execution_count": 13,
   "metadata": {},
   "outputs": [],
   "source": [
    "all_data = test_data + train_data"
   ]
  },
  {
   "cell_type": "code",
   "execution_count": 14,
   "metadata": {},
   "outputs": [],
   "source": [
    "# Iterate over each entry in the all_data list.\n",
    "for story, question , answer in all_data:\n",
    "    # Update the vocab set with unique words from the story.\n",
    "    vocab = vocab.union(set(story))\n",
    "    # Update the vocab set with unique words from the question.\n",
    "    vocab = vocab.union(set(question))"
   ]
  },
  {
   "cell_type": "code",
   "execution_count": 15,
   "metadata": {},
   "outputs": [],
   "source": [
    "# Add the word 'no' to the vocab set.\n",
    "vocab.add('no')\n",
    "# Add the word 'yes' to the vocab set.\n",
    "vocab.add('yes')"
   ]
  },
  {
   "cell_type": "code",
   "execution_count": 16,
   "metadata": {},
   "outputs": [
    {
     "data": {
      "text/plain": [
       "{'.',\n",
       " '?',\n",
       " 'Daniel',\n",
       " 'Is',\n",
       " 'John',\n",
       " 'Mary',\n",
       " 'Sandra',\n",
       " 'apple',\n",
       " 'back',\n",
       " 'bathroom',\n",
       " 'bedroom',\n",
       " 'discarded',\n",
       " 'down',\n",
       " 'dropped',\n",
       " 'football',\n",
       " 'garden',\n",
       " 'got',\n",
       " 'grabbed',\n",
       " 'hallway',\n",
       " 'in',\n",
       " 'journeyed',\n",
       " 'kitchen',\n",
       " 'left',\n",
       " 'milk',\n",
       " 'moved',\n",
       " 'no',\n",
       " 'office',\n",
       " 'picked',\n",
       " 'put',\n",
       " 'the',\n",
       " 'there',\n",
       " 'to',\n",
       " 'took',\n",
       " 'travelled',\n",
       " 'up',\n",
       " 'went',\n",
       " 'yes'}"
      ]
     },
     "execution_count": 16,
     "metadata": {},
     "output_type": "execute_result"
    }
   ],
   "source": [
    "vocab"
   ]
  },
  {
   "cell_type": "code",
   "execution_count": 17,
   "metadata": {},
   "outputs": [],
   "source": [
    "# Calculate the length of the vocab set and add 1.\n",
    "# The additional 1 is to account for a padding token (0) used by Keras's pad_sequences function.\n",
    "vocab_len = len(vocab) + 1 "
   ]
  },
  {
   "cell_type": "code",
   "execution_count": 18,
   "metadata": {},
   "outputs": [],
   "source": [
    "max_story_len = max([len(data[0]) for data in all_data])"
   ]
  },
  {
   "cell_type": "code",
   "execution_count": 19,
   "metadata": {},
   "outputs": [
    {
     "data": {
      "text/plain": [
       "156"
      ]
     },
     "execution_count": 19,
     "metadata": {},
     "output_type": "execute_result"
    }
   ],
   "source": [
    "# Will need this information later on when padding sequences\n",
    "max_story_len"
   ]
  },
  {
   "cell_type": "code",
   "execution_count": 20,
   "metadata": {},
   "outputs": [],
   "source": [
    "max_question_len = max([len(data[1]) for data in all_data])"
   ]
  },
  {
   "cell_type": "code",
   "execution_count": 21,
   "metadata": {},
   "outputs": [
    {
     "data": {
      "text/plain": [
       "6"
      ]
     },
     "execution_count": 21,
     "metadata": {},
     "output_type": "execute_result"
    }
   ],
   "source": [
    "# Will need this information  later on when padding sequences\n",
    "max_question_len"
   ]
  },
  {
   "cell_type": "markdown",
   "metadata": {},
   "source": [
    "## Vectorizing the Data"
   ]
  },
  {
   "cell_type": "code",
   "execution_count": 22,
   "metadata": {},
   "outputs": [
    {
     "data": {
      "text/plain": [
       "{'.',\n",
       " '?',\n",
       " 'Daniel',\n",
       " 'Is',\n",
       " 'John',\n",
       " 'Mary',\n",
       " 'Sandra',\n",
       " 'apple',\n",
       " 'back',\n",
       " 'bathroom',\n",
       " 'bedroom',\n",
       " 'discarded',\n",
       " 'down',\n",
       " 'dropped',\n",
       " 'football',\n",
       " 'garden',\n",
       " 'got',\n",
       " 'grabbed',\n",
       " 'hallway',\n",
       " 'in',\n",
       " 'journeyed',\n",
       " 'kitchen',\n",
       " 'left',\n",
       " 'milk',\n",
       " 'moved',\n",
       " 'no',\n",
       " 'office',\n",
       " 'picked',\n",
       " 'put',\n",
       " 'the',\n",
       " 'there',\n",
       " 'to',\n",
       " 'took',\n",
       " 'travelled',\n",
       " 'up',\n",
       " 'went',\n",
       " 'yes'}"
      ]
     },
     "execution_count": 22,
     "metadata": {},
     "output_type": "execute_result"
    }
   ],
   "source": [
    "vocab"
   ]
  },
  {
   "cell_type": "code",
   "execution_count": 23,
   "metadata": {},
   "outputs": [],
   "source": [
    "# Reserve 0 for pad_sequences\n",
    "vocab_size = len(vocab) + 1"
   ]
  },
  {
   "cell_type": "code",
   "execution_count": 24,
   "metadata": {},
   "outputs": [],
   "source": [
    "from keras.preprocessing.sequence import pad_sequences\n",
    "# (needed when running this project in Amazon Sagemaker Studio Labs or an error occurs):\n",
    "# from tensorflow.keras.preprocessing.sequence import pad_sequences\n",
    "from keras.preprocessing.text import Tokenizer"
   ]
  },
  {
   "cell_type": "code",
   "execution_count": 25,
   "metadata": {},
   "outputs": [],
   "source": [
    "# Initialize a Keras Tokenizer object.\n",
    "# The 'filters' argument is set to an empty list, which means no characters will be filtered out during tokenization.\n",
    "tokenizer = Tokenizer(filters=[])\n",
    "\n",
    "# Fit the tokenizer on the vocab set.\n",
    "# This step prepares the tokenizer to convert words in the vocab to their corresponding integer values.\n",
    "tokenizer.fit_on_texts(vocab)"
   ]
  },
  {
   "cell_type": "code",
   "execution_count": 26,
   "metadata": {},
   "outputs": [
    {
     "data": {
      "text/plain": [
       "{'?': 1,\n",
       " 'back': 2,\n",
       " 'grabbed': 3,\n",
       " 'discarded': 4,\n",
       " 'mary': 5,\n",
       " '.': 6,\n",
       " 'office': 7,\n",
       " 'picked': 8,\n",
       " 'put': 9,\n",
       " 'journeyed': 10,\n",
       " 'to': 11,\n",
       " 'left': 12,\n",
       " 'apple': 13,\n",
       " 'went': 14,\n",
       " 'football': 15,\n",
       " 'took': 16,\n",
       " 'bedroom': 17,\n",
       " 'no': 18,\n",
       " 'kitchen': 19,\n",
       " 'there': 20,\n",
       " 'got': 21,\n",
       " 'is': 22,\n",
       " 'john': 23,\n",
       " 'travelled': 24,\n",
       " 'sandra': 25,\n",
       " 'bathroom': 26,\n",
       " 'dropped': 27,\n",
       " 'daniel': 28,\n",
       " 'moved': 29,\n",
       " 'hallway': 30,\n",
       " 'in': 31,\n",
       " 'garden': 32,\n",
       " 'down': 33,\n",
       " 'the': 34,\n",
       " 'yes': 35,\n",
       " 'up': 36,\n",
       " 'milk': 37}"
      ]
     },
     "execution_count": 26,
     "metadata": {},
     "output_type": "execute_result"
    }
   ],
   "source": [
    "# Access the dictionary of word-to-integer mappings created by the tokenizer.\n",
    "tokenizer.word_index"
   ]
  },
  {
   "cell_type": "markdown",
   "metadata": {},
   "source": [
    "### Functionalize Vectorization"
   ]
  },
  {
   "cell_type": "code",
   "execution_count": 27,
   "metadata": {},
   "outputs": [],
   "source": [
    "def vectorize_stories(data, word_index=tokenizer.word_index, max_story_len=max_story_len,max_question_len=max_question_len):\n",
    "    '''\n",
    "    INPUT: \n",
    "    \n",
    "    data: consisting of Stories,Queries,and Answers\n",
    "    word_index: word index dictionary from tokenizer\n",
    "    max_story_len: the length of the longest story (used for pad_sequences function)\n",
    "    max_question_len: length of the longest question (used for pad_sequences function)\n",
    "\n",
    "\n",
    "    OUTPUT:\n",
    "    \n",
    "    Vectorizes the stories,questions, and answers into padded sequences. We first loop for every story, query , and\n",
    "    answer in the data. Then we convert the raw words to an word index value. Then we append each set to their appropriate\n",
    "    output list. Then once we have converted the words to numbers, we pad the sequences so they are all of equal length.\n",
    "    \n",
    "    Returns this in the form of a tuple (X,Xq,Y) (padded based on max lengths)\n",
    "    '''\n",
    "    \n",
    "    \n",
    "    # X = STORIES\n",
    "    X = []\n",
    "    # Xq = QUERY/QUESTION\n",
    "    Xq = []\n",
    "    # Y = CORRECT ANSWER\n",
    "    Y = []\n",
    "    \n",
    "    \n",
    "    for story, query, answer in data:\n",
    "        \n",
    "        # Grab the word index for every word in story\n",
    "        x = [word_index[word.lower()] for word in story]\n",
    "        # Grab the word index for every word in query\n",
    "        xq = [word_index[word.lower()] for word in query]\n",
    "        \n",
    "        # Grab the Answers (either Yes/No so we don't need to use list comprehension here)\n",
    "        # Index 0 is reserved so we're going to use + 1\n",
    "        y = np.zeros(len(word_index) + 1)\n",
    "        \n",
    "        # Now that y is all zeros and we know its just Yes/No , we can use numpy logic to create this assignment\n",
    "        y[word_index[answer]] = 1\n",
    "        \n",
    "        # Append each set of story,query, and answer to their respective holding lists\n",
    "        X.append(x)\n",
    "        Xq.append(xq)\n",
    "        Y.append(y)\n",
    "        \n",
    "    # Finally, pad the sequences based on their max length so the RNN can be trained on uniformly long sequences.\n",
    "        \n",
    "    # RETURN TUPLE FOR UNPACKING\n",
    "    return (pad_sequences(X, maxlen=max_story_len),pad_sequences(Xq, maxlen=max_question_len), np.array(Y))"
   ]
  },
  {
   "cell_type": "code",
   "execution_count": 28,
   "metadata": {},
   "outputs": [],
   "source": [
    "# Call the vectorize_stories function on the train_data to get vectorized versions of stories, questions, and answers.\n",
    "# inputs_train will contain the vectorized stories, queries_train will contain the vectorized questions, \n",
    "# and answers_train will contain the one-hot encoded answers.\n",
    "inputs_train, queries_train, answers_train = vectorize_stories(train_data)"
   ]
  },
  {
   "cell_type": "code",
   "execution_count": 29,
   "metadata": {},
   "outputs": [],
   "source": [
    "# Same as previous, but for test dataset.\n",
    "inputs_test, queries_test, answers_test = vectorize_stories(test_data)"
   ]
  },
  {
   "cell_type": "code",
   "execution_count": 30,
   "metadata": {},
   "outputs": [
    {
     "data": {
      "text/plain": [
       "array([[ 0,  0,  0, ..., 34, 17,  6],\n",
       "       [ 0,  0,  0, ..., 34, 32,  6],\n",
       "       [ 0,  0,  0, ..., 34, 32,  6],\n",
       "       ...,\n",
       "       [ 0,  0,  0, ..., 34, 13,  6],\n",
       "       [ 0,  0,  0, ..., 34, 32,  6],\n",
       "       [ 0,  0,  0, ..., 13, 20,  6]])"
      ]
     },
     "execution_count": 30,
     "metadata": {},
     "output_type": "execute_result"
    }
   ],
   "source": [
    "inputs_test"
   ]
  },
  {
   "cell_type": "code",
   "execution_count": 31,
   "metadata": {},
   "outputs": [
    {
     "data": {
      "text/plain": [
       "array([[22, 23, 31, 34, 19,  1],\n",
       "       [22, 23, 31, 34, 19,  1],\n",
       "       [22, 23, 31, 34, 32,  1],\n",
       "       ...,\n",
       "       [22,  5, 31, 34, 17,  1],\n",
       "       [22, 25, 31, 34, 32,  1],\n",
       "       [22,  5, 31, 34, 32,  1]])"
      ]
     },
     "execution_count": 31,
     "metadata": {},
     "output_type": "execute_result"
    }
   ],
   "source": [
    "queries_test"
   ]
  },
  {
   "cell_type": "code",
   "execution_count": 32,
   "metadata": {},
   "outputs": [
    {
     "data": {
      "text/plain": [
       "array([[0., 0., 0., ..., 0., 0., 0.],\n",
       "       [0., 0., 0., ..., 0., 0., 0.],\n",
       "       [0., 0., 0., ..., 1., 0., 0.],\n",
       "       ...,\n",
       "       [0., 0., 0., ..., 0., 0., 0.],\n",
       "       [0., 0., 0., ..., 1., 0., 0.],\n",
       "       [0., 0., 0., ..., 1., 0., 0.]])"
      ]
     },
     "execution_count": 32,
     "metadata": {},
     "output_type": "execute_result"
    }
   ],
   "source": [
    "answers_test"
   ]
  },
  {
   "cell_type": "code",
   "execution_count": 33,
   "metadata": {},
   "outputs": [
    {
     "data": {
      "text/plain": [
       "array([  0.,   0.,   0.,   0.,   0.,   0.,   0.,   0.,   0.,   0.,   0.,\n",
       "         0.,   0.,   0.,   0.,   0.,   0.,   0., 503.,   0.,   0.,   0.,\n",
       "         0.,   0.,   0.,   0.,   0.,   0.,   0.,   0.,   0.,   0.,   0.,\n",
       "         0.,   0., 497.,   0.,   0.])"
      ]
     },
     "execution_count": 33,
     "metadata": {},
     "output_type": "execute_result"
    }
   ],
   "source": [
    "# Compute the sum of the one-hot encoded answers in answers_test.\n",
    "# This can provide the total count of each answer type in the test dataset.\n",
    "sum(answers_test)"
   ]
  },
  {
   "cell_type": "code",
   "execution_count": 34,
   "metadata": {},
   "outputs": [
    {
     "data": {
      "text/plain": [
       "35"
      ]
     },
     "execution_count": 34,
     "metadata": {},
     "output_type": "execute_result"
    }
   ],
   "source": [
    "# Retrieve the integer value assigned to the word 'yes' from the tokenizer's word_index dictionary.\n",
    "tokenizer.word_index['yes']"
   ]
  },
  {
   "cell_type": "code",
   "execution_count": 35,
   "metadata": {},
   "outputs": [
    {
     "data": {
      "text/plain": [
       "18"
      ]
     },
     "execution_count": 35,
     "metadata": {},
     "output_type": "execute_result"
    }
   ],
   "source": [
    "# Retrieve the integer value assigned to the word 'no' from the tokenizer's word_index dictionary.\n",
    "tokenizer.word_index['no']"
   ]
  },
  {
   "cell_type": "markdown",
   "metadata": {},
   "source": [
    "## Creating the Model"
   ]
  },
  {
   "cell_type": "code",
   "execution_count": 36,
   "metadata": {},
   "outputs": [],
   "source": [
    "from keras.models import Sequential, Model\n",
    "from keras.layers import Embedding\n",
    "from keras.layers import Input, Activation, Dense, Permute, Dropout\n",
    "from keras.layers import add, dot, concatenate\n",
    "from keras.layers import LSTM"
   ]
  },
  {
   "cell_type": "code",
   "execution_count": 37,
   "metadata": {},
   "outputs": [],
   "source": [
    "'''\n",
    "Placeholders for Inputs:\n",
    "Recall we technically have two inputs, stories and questions. So we need to use placeholders.\n",
    "''' \n",
    "# Define the input layer for the story sequences. \n",
    "# The shape argument defines the dimensions of the input data. 'max_story_len' specifies the maximum length of a story.\n",
    "# This layer will expect input data with a shape of (batch_size, max_story_len).\n",
    "input_sequence = Input((max_story_len,))\n",
    "\n",
    "# Define the input layer for the question sequences.\n",
    "# Similarly, 'max_question_len' specifies the maximum length of a question.\n",
    "# This layer will expect input data with a shape of (batch_size, max_question_len).\n",
    "question = Input((max_question_len,))"
   ]
  },
  {
   "cell_type": "markdown",
   "metadata": {},
   "source": [
    "## Encoders\n",
    "\n",
    "### Input Encoder m"
   ]
  },
  {
   "cell_type": "code",
   "execution_count": 38,
   "metadata": {},
   "outputs": [],
   "source": [
    "# Initialize a sequential model for encoding the input sequences (stories).\n",
    "input_encoder_m = Sequential()\n",
    "\n",
    "# Add an embedding layer to the encoder.\n",
    "# This layer will transform integer-encoded words into vectors of fixed size (64 in this case).\n",
    "# 'vocab_size' is the number of unique words (tokens) in the vocabulary.\n",
    "input_encoder_m.add(Embedding(input_dim=vocab_size,output_dim=64))\n",
    "\n",
    "# Add a dropout layer to the encoder.\n",
    "# Dropout is a regularization technique where randomly selected neurons are ignored (or \"dropped-out\") during training.\n",
    "# This helps in preventing overfitting.\n",
    "input_encoder_m.add(Dropout(0.3)) \n",
    "\n",
    "# The output shape of this encoder will be:\n",
    "# (samples, story_maxlen, embedding_dim)\n",
    "# Where 'samples' is the number of stories in the batch, 'story_maxlen' is the maximum length of any story, \n",
    "# and 'embedding_dim' is the dimension of the embedded word vectors (64 in this case)."
   ]
  },
  {
   "cell_type": "markdown",
   "metadata": {},
   "source": [
    "### Input Encoder c"
   ]
  },
  {
   "cell_type": "code",
   "execution_count": 39,
   "metadata": {},
   "outputs": [],
   "source": [
    "# Initialize another sequential model for encoding the input sequences.\n",
    "input_encoder_c = Sequential()\n",
    "\n",
    "# Add an embedding layer to this encoder.\n",
    "# Unlike the previous encoder, the output dimension here is set to 'max_question_len'.\n",
    "# This means each word in the story will be embedded into a vector of size 'max_question_len'.\n",
    "input_encoder_c.add(Embedding(input_dim=vocab_size,output_dim=max_question_len))\n",
    "\n",
    "# Add a dropout layer for regularization.\n",
    "# As before, this layer randomly turns off a percentage of neurons during training to help with overfitting.\n",
    "input_encoder_c.add(Dropout(0.3))\n",
    "\n",
    "\n",
    "# The output shape of this encoder will be:\n",
    "# (samples, story_maxlen, query_maxlen)\n",
    "# Where 'samples' is the number of stories in the batch, 'story_maxlen' is the maximum length of any story, \n",
    "# and 'query_maxlen' is the maximum length of any question."
   ]
  },
  {
   "cell_type": "markdown",
   "metadata": {},
   "source": [
    "### Question Encoder"
   ]
  },
  {
   "cell_type": "code",
   "execution_count": 40,
   "metadata": {},
   "outputs": [],
   "source": [
    "# Initialize a sequential model for encoding the questions.\n",
    "question_encoder = Sequential()\n",
    "\n",
    "# Add an embedding layer to the encoder.\n",
    "# This layer will transform integer-encoded words in the question into vectors of fixed size (64 in this case).\n",
    "# The 'input_length' argument specifies that the input to this layer will always have a fixed length of 'max_question_len'.\n",
    "question_encoder.add(Embedding(input_dim=vocab_size,\n",
    "                               output_dim=64,\n",
    "                               input_length=max_question_len))\n",
    "\n",
    "question_encoder.add(Dropout(0.3))\n",
    "\n",
    "# The output shape of this encoder will be:\n",
    "# (samples, query_maxlen, embedding_dim)\n",
    "# Where 'samples' is the number of questions in the batch, 'query_maxlen' is the maximum length of any question, \n",
    "# and 'embedding_dim' is the dimension of the embedded word vectors (64 in this case)."
   ]
  },
  {
   "cell_type": "markdown",
   "metadata": {},
   "source": [
    "### Encode the Sequences"
   ]
  },
  {
   "cell_type": "code",
   "execution_count": 41,
   "metadata": {},
   "outputs": [],
   "source": [
    "# Transform the input story sequences into dense vector representations using the 'input_encoder_m' model.\n",
    "# This will result in a sequence of vectors for each story.\n",
    "input_encoded_m = input_encoder_m(input_sequence)\n",
    "\n",
    "# Transform the same input story sequences using the 'input_encoder_c' model.\n",
    "# This will produce a different representation compared to 'input_encoded_m'.\n",
    "input_encoded_c = input_encoder_c(input_sequence)\n",
    "\n",
    "# Transform the question sequences into dense vector representations using the 'question_encoder' model.\n",
    "# This will result in a sequence of vectors for each question.\n",
    "question_encoded = question_encoder(question)"
   ]
  },
  {
   "cell_type": "markdown",
   "metadata": {},
   "source": [
    "### Use dot product to compute the match between first input vector seq and the query"
   ]
  },
  {
   "cell_type": "code",
   "execution_count": 42,
   "metadata": {},
   "outputs": [],
   "source": [
    "# Compute the dot product between the embedded stories (`input_encoded_m`) and embedded questions (`question_encoded`).\n",
    "# This will effectively measure the similarity between each word in the story and the entire question.\n",
    "# The resulting shape will be `(samples, story_maxlen, query_maxlen)`, representing similarity scores.\n",
    "match = dot([input_encoded_m, question_encoded], axes=(2, 2))\n",
    "\n",
    "# Apply a softmax activation to the similarity scores.\n",
    "# This will turn the scores into \"attention weights\", where higher values mean a particular word in the story \n",
    "# is more relevant to the question. The softmax ensures that the weights sum to 1 for each story word.\n",
    "match = Activation('softmax')(match)"
   ]
  },
  {
   "cell_type": "markdown",
   "metadata": {},
   "source": [
    "### Add this match matrix with the second input vector sequence"
   ]
  },
  {
   "cell_type": "code",
   "execution_count": 43,
   "metadata": {},
   "outputs": [],
   "source": [
    "# Combine (add) the attention weights (match) with the encoded representations of the stories (`input_encoded_c`).\n",
    "# This operation essentially weighs the story representations based on their relevance to the question.\n",
    "# The resulting tensor has shape `(samples, story_maxlen, query_maxlen)`.\n",
    "response = add([match, input_encoded_c])\n",
    "\n",
    "# Permute the dimensions of the `response` tensor.\n",
    "# This swaps the 'story_maxlen' and 'query_maxlen' dimensions, resulting in a shape of `(samples, query_maxlen, story_maxlen)`.\n",
    "response = Permute((2, 1))(response)"
   ]
  },
  {
   "cell_type": "markdown",
   "metadata": {},
   "source": [
    "### Concatenate"
   ]
  },
  {
   "cell_type": "code",
   "execution_count": 44,
   "metadata": {},
   "outputs": [],
   "source": [
    "# Concatenate the weighted story representations (`response`) with the encoded questions (`question_encoded`).\n",
    "# This combined representation provides a richer context that captures both the relevant parts of the story \n",
    "# and the specifics of the question.\n",
    "answer = concatenate([response, question_encoded])"
   ]
  },
  {
   "cell_type": "code",
   "execution_count": 45,
   "metadata": {},
   "outputs": [
    {
     "data": {
      "text/plain": [
       "<KerasTensor: shape=(None, 6, 220) dtype=float32 (created by layer 'concatenate')>"
      ]
     },
     "execution_count": 45,
     "metadata": {},
     "output_type": "execute_result"
    }
   ],
   "source": [
    "answer"
   ]
  },
  {
   "cell_type": "code",
   "execution_count": 46,
   "metadata": {},
   "outputs": [],
   "source": [
    "# Process the combined story and question representation using an LSTM layer.\n",
    "# The LSTM layer will analyze the sequence and produce a fixed-size output vector (with 32 dimensions in this case).\n",
    "# This output captures the most important features of the input sequence for the task at hand.\n",
    "answer = LSTM(32)(answer)"
   ]
  },
  {
   "cell_type": "code",
   "execution_count": 47,
   "metadata": {},
   "outputs": [],
   "source": [
    "# Apply dropout regularization to the LSTM outputs.\n",
    "# Dropout randomly sets a fraction (0.5 or 50% in this case) of input units to 0 at each update during training, \n",
    "# which helps to prevent overfitting.\n",
    "answer = Dropout(0.5)(answer)\n",
    "\n",
    "# Add a Dense layer to transform the outputs from the Dropout layer.\n",
    "# This layer will have as many neurons as there are words in the vocabulary.\n",
    "# It will produce an output vector of shape `(samples, vocab_size)`, where each entry in the vector can be thought of \n",
    "# as the model's confidence that a particular word in the vocabulary is the correct answer.\n",
    "answer = Dense(vocab_size)(answer)  "
   ]
  },
  {
   "cell_type": "code",
   "execution_count": 48,
   "metadata": {},
   "outputs": [],
   "source": [
    "# Apply a softmax activation to the `answer` tensor.\n",
    "# This will convert the dense layer's outputs into a probability distribution over the vocabulary.\n",
    "# Each entry in the output will represent the model's confidence that a particular word in the vocabulary is the correct answer.\n",
    "answer = Activation('softmax')(answer)\n",
    "\n",
    "# Build the final Keras model.\n",
    "# The model takes two inputs: the story (`input_sequence`) and the question.\n",
    "# It outputs the probability distribution over the vocabulary (the `answer` tensor).\n",
    "model = Model([input_sequence, question], answer)\n",
    "\n",
    "# Compile the model to configure the training process.\n",
    "# - The optimizer is set to 'rmsprop', which is a commonly used optimizer for RNNs.\n",
    "# - The loss function is 'categorical_crossentropy', suitable for multi-class classification problems.\n",
    "# - The model will also compute accuracy as a metric during training and evaluation.\n",
    "model.compile(optimizer='rmsprop', loss='categorical_crossentropy',\n",
    "              metrics=['accuracy'])"
   ]
  },
  {
   "cell_type": "code",
   "execution_count": 49,
   "metadata": {},
   "outputs": [
    {
     "name": "stdout",
     "output_type": "stream",
     "text": [
      "Model: \"model\"\n",
      "__________________________________________________________________________________________________\n",
      " Layer (type)                Output Shape                 Param #   Connected to                  \n",
      "==================================================================================================\n",
      " input_1 (InputLayer)        [(None, 156)]                0         []                            \n",
      "                                                                                                  \n",
      " input_2 (InputLayer)        [(None, 6)]                  0         []                            \n",
      "                                                                                                  \n",
      " sequential (Sequential)     (None, None, 64)             2432      ['input_1[0][0]']             \n",
      "                                                                                                  \n",
      " sequential_2 (Sequential)   (None, 6, 64)                2432      ['input_2[0][0]']             \n",
      "                                                                                                  \n",
      " dot (Dot)                   (None, 156, 6)               0         ['sequential[0][0]',          \n",
      "                                                                     'sequential_2[0][0]']        \n",
      "                                                                                                  \n",
      " activation (Activation)     (None, 156, 6)               0         ['dot[0][0]']                 \n",
      "                                                                                                  \n",
      " sequential_1 (Sequential)   (None, None, 6)              228       ['input_1[0][0]']             \n",
      "                                                                                                  \n",
      " add (Add)                   (None, 156, 6)               0         ['activation[0][0]',          \n",
      "                                                                     'sequential_1[0][0]']        \n",
      "                                                                                                  \n",
      " permute (Permute)           (None, 6, 156)               0         ['add[0][0]']                 \n",
      "                                                                                                  \n",
      " concatenate (Concatenate)   (None, 6, 220)               0         ['permute[0][0]',             \n",
      "                                                                     'sequential_2[0][0]']        \n",
      "                                                                                                  \n",
      " lstm (LSTM)                 (None, 32)                   32384     ['concatenate[0][0]']         \n",
      "                                                                                                  \n",
      " dropout_3 (Dropout)         (None, 32)                   0         ['lstm[0][0]']                \n",
      "                                                                                                  \n",
      " dense (Dense)               (None, 38)                   1254      ['dropout_3[0][0]']           \n",
      "                                                                                                  \n",
      " activation_1 (Activation)   (None, 38)                   0         ['dense[0][0]']               \n",
      "                                                                                                  \n",
      "==================================================================================================\n",
      "Total params: 38730 (151.29 KB)\n",
      "Trainable params: 38730 (151.29 KB)\n",
      "Non-trainable params: 0 (0.00 Byte)\n",
      "__________________________________________________________________________________________________\n"
     ]
    }
   ],
   "source": [
    "model.summary()"
   ]
  },
  {
   "cell_type": "code",
   "execution_count": 50,
   "metadata": {},
   "outputs": [
    {
     "name": "stdout",
     "output_type": "stream",
     "text": [
      "Epoch 1/100\n",
      "313/313 [==============================] - 8s 15ms/step - loss: 0.9069 - accuracy: 0.4911 - val_loss: 0.6962 - val_accuracy: 0.4970\n",
      "Epoch 2/100\n",
      "313/313 [==============================] - 4s 13ms/step - loss: 0.7069 - accuracy: 0.4971 - val_loss: 0.6934 - val_accuracy: 0.4970\n",
      "Epoch 3/100\n",
      "313/313 [==============================] - 4s 14ms/step - loss: 0.6974 - accuracy: 0.5015 - val_loss: 0.6933 - val_accuracy: 0.5030\n",
      "Epoch 4/100\n",
      "313/313 [==============================] - 4s 13ms/step - loss: 0.6971 - accuracy: 0.4983 - val_loss: 0.6959 - val_accuracy: 0.4970\n",
      "Epoch 5/100\n",
      "313/313 [==============================] - 5s 14ms/step - loss: 0.6955 - accuracy: 0.5009 - val_loss: 0.6937 - val_accuracy: 0.4970\n",
      "Epoch 6/100\n",
      "313/313 [==============================] - 4s 13ms/step - loss: 0.6951 - accuracy: 0.5042 - val_loss: 0.6956 - val_accuracy: 0.4970\n",
      "Epoch 7/100\n",
      "313/313 [==============================] - 4s 13ms/step - loss: 0.6961 - accuracy: 0.4907 - val_loss: 0.6948 - val_accuracy: 0.4970\n",
      "Epoch 8/100\n",
      "313/313 [==============================] - 4s 12ms/step - loss: 0.6953 - accuracy: 0.4990 - val_loss: 0.6950 - val_accuracy: 0.5030\n",
      "Epoch 9/100\n",
      "313/313 [==============================] - 4s 12ms/step - loss: 0.6951 - accuracy: 0.5034 - val_loss: 0.6932 - val_accuracy: 0.4880\n",
      "Epoch 10/100\n",
      "313/313 [==============================] - 4s 12ms/step - loss: 0.6953 - accuracy: 0.4939 - val_loss: 0.6938 - val_accuracy: 0.5030\n",
      "Epoch 11/100\n",
      "313/313 [==============================] - 4s 12ms/step - loss: 0.6954 - accuracy: 0.4968 - val_loss: 0.6935 - val_accuracy: 0.4970\n",
      "Epoch 12/100\n",
      "313/313 [==============================] - 4s 13ms/step - loss: 0.6942 - accuracy: 0.5134 - val_loss: 0.6942 - val_accuracy: 0.4970\n",
      "Epoch 13/100\n",
      "313/313 [==============================] - 4s 14ms/step - loss: 0.6956 - accuracy: 0.4933 - val_loss: 0.6937 - val_accuracy: 0.4970\n",
      "Epoch 14/100\n",
      "313/313 [==============================] - 4s 14ms/step - loss: 0.6954 - accuracy: 0.4973 - val_loss: 0.6953 - val_accuracy: 0.4970\n",
      "Epoch 15/100\n",
      "313/313 [==============================] - 4s 13ms/step - loss: 0.6953 - accuracy: 0.4952 - val_loss: 0.6931 - val_accuracy: 0.5030\n",
      "Epoch 16/100\n",
      "313/313 [==============================] - 4s 14ms/step - loss: 0.6956 - accuracy: 0.4894 - val_loss: 0.6933 - val_accuracy: 0.4970\n",
      "Epoch 17/100\n",
      "313/313 [==============================] - 4s 13ms/step - loss: 0.6946 - accuracy: 0.5087 - val_loss: 0.6944 - val_accuracy: 0.4970\n",
      "Epoch 18/100\n",
      "313/313 [==============================] - 4s 11ms/step - loss: 0.6950 - accuracy: 0.5013 - val_loss: 0.6939 - val_accuracy: 0.4970\n",
      "Epoch 19/100\n",
      "313/313 [==============================] - 4s 11ms/step - loss: 0.6959 - accuracy: 0.4933 - val_loss: 0.6944 - val_accuracy: 0.4970\n",
      "Epoch 20/100\n",
      "313/313 [==============================] - 4s 11ms/step - loss: 0.6954 - accuracy: 0.4939 - val_loss: 0.6960 - val_accuracy: 0.4970\n",
      "Epoch 21/100\n",
      "313/313 [==============================] - 4s 12ms/step - loss: 0.6945 - accuracy: 0.5035 - val_loss: 0.6937 - val_accuracy: 0.4970\n",
      "Epoch 22/100\n",
      "313/313 [==============================] - 4s 12ms/step - loss: 0.6950 - accuracy: 0.5025 - val_loss: 0.6940 - val_accuracy: 0.4970\n",
      "Epoch 23/100\n",
      "313/313 [==============================] - 4s 13ms/step - loss: 0.6946 - accuracy: 0.5024 - val_loss: 0.6931 - val_accuracy: 0.4980\n",
      "Epoch 24/100\n",
      "313/313 [==============================] - 4s 12ms/step - loss: 0.6942 - accuracy: 0.5111 - val_loss: 0.6937 - val_accuracy: 0.4970\n",
      "Epoch 25/100\n",
      "313/313 [==============================] - 4s 13ms/step - loss: 0.6950 - accuracy: 0.4965 - val_loss: 0.6939 - val_accuracy: 0.5030\n",
      "Epoch 26/100\n",
      "313/313 [==============================] - 4s 12ms/step - loss: 0.6947 - accuracy: 0.4989 - val_loss: 0.6939 - val_accuracy: 0.4970\n",
      "Epoch 27/100\n",
      "313/313 [==============================] - 4s 12ms/step - loss: 0.6954 - accuracy: 0.5022 - val_loss: 0.6977 - val_accuracy: 0.4970\n",
      "Epoch 28/100\n",
      "313/313 [==============================] - 4s 13ms/step - loss: 0.6954 - accuracy: 0.4925 - val_loss: 0.6932 - val_accuracy: 0.4970\n",
      "Epoch 29/100\n",
      "313/313 [==============================] - 4s 12ms/step - loss: 0.6951 - accuracy: 0.4906 - val_loss: 0.6938 - val_accuracy: 0.4970\n",
      "Epoch 30/100\n",
      "313/313 [==============================] - 4s 12ms/step - loss: 0.6947 - accuracy: 0.4943 - val_loss: 0.6931 - val_accuracy: 0.5030\n",
      "Epoch 31/100\n",
      "313/313 [==============================] - 4s 12ms/step - loss: 0.6947 - accuracy: 0.5028 - val_loss: 0.6932 - val_accuracy: 0.5030\n",
      "Epoch 32/100\n",
      "313/313 [==============================] - 4s 12ms/step - loss: 0.6952 - accuracy: 0.4939 - val_loss: 0.6941 - val_accuracy: 0.5030\n",
      "Epoch 33/100\n",
      "313/313 [==============================] - 4s 12ms/step - loss: 0.6955 - accuracy: 0.4918 - val_loss: 0.6937 - val_accuracy: 0.5030\n",
      "Epoch 34/100\n",
      "313/313 [==============================] - 4s 12ms/step - loss: 0.6948 - accuracy: 0.4981 - val_loss: 0.6934 - val_accuracy: 0.4970\n",
      "Epoch 35/100\n",
      "313/313 [==============================] - 4s 12ms/step - loss: 0.6950 - accuracy: 0.4969 - val_loss: 0.6931 - val_accuracy: 0.4970\n",
      "Epoch 36/100\n",
      "313/313 [==============================] - 4s 12ms/step - loss: 0.6953 - accuracy: 0.4960 - val_loss: 0.6934 - val_accuracy: 0.5030\n",
      "Epoch 37/100\n",
      "313/313 [==============================] - 4s 12ms/step - loss: 0.6950 - accuracy: 0.4989 - val_loss: 0.6931 - val_accuracy: 0.5030\n",
      "Epoch 38/100\n",
      "313/313 [==============================] - 4s 11ms/step - loss: 0.6950 - accuracy: 0.4993 - val_loss: 0.6932 - val_accuracy: 0.4970\n",
      "Epoch 39/100\n",
      "313/313 [==============================] - 4s 12ms/step - loss: 0.6942 - accuracy: 0.5103 - val_loss: 0.6950 - val_accuracy: 0.4970\n",
      "Epoch 40/100\n",
      "313/313 [==============================] - 4s 12ms/step - loss: 0.6953 - accuracy: 0.4975 - val_loss: 0.6948 - val_accuracy: 0.4970\n",
      "Epoch 41/100\n",
      "313/313 [==============================] - 4s 12ms/step - loss: 0.6946 - accuracy: 0.5001 - val_loss: 0.6936 - val_accuracy: 0.5030\n",
      "Epoch 42/100\n",
      "313/313 [==============================] - 4s 12ms/step - loss: 0.6949 - accuracy: 0.4982 - val_loss: 0.6936 - val_accuracy: 0.5030\n",
      "Epoch 43/100\n",
      "313/313 [==============================] - 4s 12ms/step - loss: 0.6948 - accuracy: 0.4962 - val_loss: 0.6934 - val_accuracy: 0.5030\n",
      "Epoch 44/100\n",
      "313/313 [==============================] - 4s 12ms/step - loss: 0.6940 - accuracy: 0.5048 - val_loss: 0.6931 - val_accuracy: 0.5030\n",
      "Epoch 45/100\n",
      "313/313 [==============================] - 4s 12ms/step - loss: 0.6944 - accuracy: 0.4994 - val_loss: 0.6932 - val_accuracy: 0.4930\n",
      "Epoch 46/100\n",
      "313/313 [==============================] - 4s 12ms/step - loss: 0.6948 - accuracy: 0.5012 - val_loss: 0.6934 - val_accuracy: 0.5030\n",
      "Epoch 47/100\n",
      "313/313 [==============================] - 4s 12ms/step - loss: 0.6946 - accuracy: 0.5055 - val_loss: 0.6969 - val_accuracy: 0.4970\n",
      "Epoch 48/100\n",
      "313/313 [==============================] - 4s 12ms/step - loss: 0.6950 - accuracy: 0.4973 - val_loss: 0.6948 - val_accuracy: 0.5030\n",
      "Epoch 49/100\n",
      "313/313 [==============================] - 4s 12ms/step - loss: 0.6937 - accuracy: 0.5085 - val_loss: 0.6964 - val_accuracy: 0.4970\n",
      "Epoch 50/100\n",
      "313/313 [==============================] - 4s 12ms/step - loss: 0.6945 - accuracy: 0.5067 - val_loss: 0.6964 - val_accuracy: 0.4970\n",
      "Epoch 51/100\n",
      "313/313 [==============================] - 4s 12ms/step - loss: 0.6947 - accuracy: 0.5013 - val_loss: 0.6934 - val_accuracy: 0.4990\n",
      "Epoch 52/100\n",
      "313/313 [==============================] - 4s 12ms/step - loss: 0.6943 - accuracy: 0.5161 - val_loss: 0.6945 - val_accuracy: 0.5030\n",
      "Epoch 53/100\n",
      "313/313 [==============================] - 4s 12ms/step - loss: 0.6939 - accuracy: 0.5088 - val_loss: 0.6942 - val_accuracy: 0.4960\n",
      "Epoch 54/100\n",
      "313/313 [==============================] - 4s 12ms/step - loss: 0.6940 - accuracy: 0.5111 - val_loss: 0.6964 - val_accuracy: 0.5030\n",
      "Epoch 55/100\n",
      "313/313 [==============================] - 4s 12ms/step - loss: 0.6942 - accuracy: 0.5081 - val_loss: 0.6933 - val_accuracy: 0.5110\n",
      "Epoch 56/100\n",
      "313/313 [==============================] - 4s 12ms/step - loss: 0.6937 - accuracy: 0.5084 - val_loss: 0.6940 - val_accuracy: 0.4920\n",
      "Epoch 57/100\n",
      "313/313 [==============================] - 4s 12ms/step - loss: 0.6931 - accuracy: 0.5162 - val_loss: 0.6956 - val_accuracy: 0.5020\n",
      "Epoch 58/100\n",
      "313/313 [==============================] - 4s 11ms/step - loss: 0.6932 - accuracy: 0.5158 - val_loss: 0.6938 - val_accuracy: 0.4950\n",
      "Epoch 59/100\n",
      "313/313 [==============================] - 4s 12ms/step - loss: 0.6930 - accuracy: 0.5118 - val_loss: 0.6944 - val_accuracy: 0.5000\n",
      "Epoch 60/100\n",
      "313/313 [==============================] - 4s 12ms/step - loss: 0.6930 - accuracy: 0.5190 - val_loss: 0.6973 - val_accuracy: 0.5030\n",
      "Epoch 61/100\n",
      "313/313 [==============================] - 4s 12ms/step - loss: 0.6913 - accuracy: 0.5173 - val_loss: 0.6947 - val_accuracy: 0.4930\n",
      "Epoch 62/100\n",
      "313/313 [==============================] - 4s 12ms/step - loss: 0.6910 - accuracy: 0.5244 - val_loss: 0.6977 - val_accuracy: 0.5060\n",
      "Epoch 63/100\n",
      "313/313 [==============================] - 4s 12ms/step - loss: 0.6891 - accuracy: 0.5337 - val_loss: 0.6934 - val_accuracy: 0.5090\n",
      "Epoch 64/100\n",
      "313/313 [==============================] - 4s 11ms/step - loss: 0.6903 - accuracy: 0.5295 - val_loss: 0.6931 - val_accuracy: 0.5130\n",
      "Epoch 65/100\n",
      "313/313 [==============================] - 4s 12ms/step - loss: 0.6874 - accuracy: 0.5274 - val_loss: 0.6873 - val_accuracy: 0.5460\n",
      "Epoch 66/100\n",
      "313/313 [==============================] - 4s 12ms/step - loss: 0.6801 - accuracy: 0.5572 - val_loss: 0.6766 - val_accuracy: 0.6020\n",
      "Epoch 67/100\n",
      "313/313 [==============================] - 4s 12ms/step - loss: 0.6696 - accuracy: 0.5802 - val_loss: 0.6570 - val_accuracy: 0.6300\n",
      "Epoch 68/100\n",
      "313/313 [==============================] - 4s 12ms/step - loss: 0.6555 - accuracy: 0.6070 - val_loss: 0.6417 - val_accuracy: 0.6390\n",
      "Epoch 69/100\n",
      "313/313 [==============================] - 4s 12ms/step - loss: 0.6440 - accuracy: 0.6259 - val_loss: 0.6311 - val_accuracy: 0.6350\n",
      "Epoch 70/100\n",
      "313/313 [==============================] - 4s 12ms/step - loss: 0.6330 - accuracy: 0.6438 - val_loss: 0.6222 - val_accuracy: 0.6550\n",
      "Epoch 71/100\n",
      "313/313 [==============================] - 4s 12ms/step - loss: 0.6224 - accuracy: 0.6551 - val_loss: 0.6163 - val_accuracy: 0.6570\n",
      "Epoch 72/100\n",
      "313/313 [==============================] - 4s 12ms/step - loss: 0.6150 - accuracy: 0.6683 - val_loss: 0.6044 - val_accuracy: 0.6720\n",
      "Epoch 73/100\n",
      "313/313 [==============================] - 4s 12ms/step - loss: 0.6072 - accuracy: 0.6805 - val_loss: 0.5956 - val_accuracy: 0.6700\n",
      "Epoch 74/100\n",
      "313/313 [==============================] - 4s 12ms/step - loss: 0.5976 - accuracy: 0.6912 - val_loss: 0.5823 - val_accuracy: 0.6970\n",
      "Epoch 75/100\n",
      "313/313 [==============================] - 4s 11ms/step - loss: 0.5812 - accuracy: 0.7069 - val_loss: 0.5643 - val_accuracy: 0.7120\n",
      "Epoch 76/100\n",
      "313/313 [==============================] - 4s 12ms/step - loss: 0.5722 - accuracy: 0.7140 - val_loss: 0.5654 - val_accuracy: 0.7000\n",
      "Epoch 77/100\n",
      "313/313 [==============================] - 4s 12ms/step - loss: 0.5572 - accuracy: 0.7235 - val_loss: 0.5408 - val_accuracy: 0.7310\n",
      "Epoch 78/100\n",
      "313/313 [==============================] - 4s 12ms/step - loss: 0.5518 - accuracy: 0.7311 - val_loss: 0.5261 - val_accuracy: 0.7510\n",
      "Epoch 79/100\n",
      "313/313 [==============================] - 4s 11ms/step - loss: 0.5350 - accuracy: 0.7421 - val_loss: 0.5098 - val_accuracy: 0.7540\n",
      "Epoch 80/100\n",
      "313/313 [==============================] - 3s 11ms/step - loss: 0.5224 - accuracy: 0.7518 - val_loss: 0.5099 - val_accuracy: 0.7480\n",
      "Epoch 81/100\n",
      "313/313 [==============================] - 3s 10ms/step - loss: 0.5152 - accuracy: 0.7577 - val_loss: 0.5091 - val_accuracy: 0.7620\n",
      "Epoch 82/100\n",
      "313/313 [==============================] - 3s 10ms/step - loss: 0.5044 - accuracy: 0.7684 - val_loss: 0.4939 - val_accuracy: 0.7550\n",
      "Epoch 83/100\n",
      "313/313 [==============================] - 3s 10ms/step - loss: 0.4956 - accuracy: 0.7756 - val_loss: 0.4913 - val_accuracy: 0.7780\n",
      "Epoch 84/100\n",
      "313/313 [==============================] - 3s 10ms/step - loss: 0.4901 - accuracy: 0.7777 - val_loss: 0.4773 - val_accuracy: 0.7800\n",
      "Epoch 85/100\n",
      "313/313 [==============================] - 3s 10ms/step - loss: 0.4853 - accuracy: 0.7796 - val_loss: 0.4806 - val_accuracy: 0.7740\n",
      "Epoch 86/100\n",
      "313/313 [==============================] - 3s 10ms/step - loss: 0.4763 - accuracy: 0.7856 - val_loss: 0.4767 - val_accuracy: 0.7690\n",
      "Epoch 87/100\n",
      "313/313 [==============================] - 3s 10ms/step - loss: 0.4704 - accuracy: 0.7906 - val_loss: 0.4742 - val_accuracy: 0.7880\n",
      "Epoch 88/100\n",
      "313/313 [==============================] - 3s 10ms/step - loss: 0.4595 - accuracy: 0.7998 - val_loss: 0.4937 - val_accuracy: 0.7540\n",
      "Epoch 89/100\n",
      "313/313 [==============================] - 3s 10ms/step - loss: 0.4553 - accuracy: 0.7991 - val_loss: 0.4586 - val_accuracy: 0.7850\n",
      "Epoch 90/100\n",
      "313/313 [==============================] - 4s 11ms/step - loss: 0.4481 - accuracy: 0.8037 - val_loss: 0.4624 - val_accuracy: 0.7830\n",
      "Epoch 91/100\n",
      "313/313 [==============================] - 3s 11ms/step - loss: 0.4380 - accuracy: 0.8086 - val_loss: 0.5190 - val_accuracy: 0.7680\n",
      "Epoch 92/100\n",
      "313/313 [==============================] - 3s 10ms/step - loss: 0.4368 - accuracy: 0.8089 - val_loss: 0.5150 - val_accuracy: 0.7470\n",
      "Epoch 93/100\n",
      "313/313 [==============================] - 3s 10ms/step - loss: 0.4275 - accuracy: 0.8156 - val_loss: 0.4564 - val_accuracy: 0.7970\n",
      "Epoch 94/100\n",
      "313/313 [==============================] - 3s 10ms/step - loss: 0.4265 - accuracy: 0.8113 - val_loss: 0.4438 - val_accuracy: 0.7920\n",
      "Epoch 95/100\n",
      "313/313 [==============================] - 3s 10ms/step - loss: 0.4192 - accuracy: 0.8208 - val_loss: 0.4595 - val_accuracy: 0.7950\n",
      "Epoch 96/100\n",
      "313/313 [==============================] - 3s 10ms/step - loss: 0.4119 - accuracy: 0.8263 - val_loss: 0.4423 - val_accuracy: 0.8100\n",
      "Epoch 97/100\n",
      "313/313 [==============================] - 3s 10ms/step - loss: 0.4016 - accuracy: 0.8286 - val_loss: 0.4241 - val_accuracy: 0.8110\n",
      "Epoch 98/100\n",
      "313/313 [==============================] - 3s 10ms/step - loss: 0.3923 - accuracy: 0.8368 - val_loss: 0.4101 - val_accuracy: 0.8140\n",
      "Epoch 99/100\n",
      "313/313 [==============================] - 3s 10ms/step - loss: 0.3836 - accuracy: 0.8432 - val_loss: 0.4437 - val_accuracy: 0.8200\n",
      "Epoch 100/100\n",
      "313/313 [==============================] - 3s 10ms/step - loss: 0.3820 - accuracy: 0.8397 - val_loss: 0.4170 - val_accuracy: 0.8220\n"
     ]
    }
   ],
   "source": [
    "# Train the model on the training data.\n",
    "# - The training data consists of stories (`inputs_train`) and questions (`queries_train`).\n",
    "# - The target labels are the correct answers (`answers_train`).\n",
    "# - The model is trained using mini-batch gradient descent with a batch size of 32.\n",
    "# - The training process will run for 120 epochs.\n",
    "# - At the end of each epoch, the model's performance is evaluated on the test data (`inputs_test`, `queries_test`, and `answers_test`).\n",
    "history = model.fit([inputs_train, queries_train], answers_train,batch_size=32,epochs=100,validation_data=([inputs_test, queries_test], answers_test))"
   ]
  },
  {
   "cell_type": "markdown",
   "metadata": {},
   "source": [
    "### Saving the Model"
   ]
  },
  {
   "cell_type": "code",
   "execution_count": 51,
   "metadata": {},
   "outputs": [],
   "source": [
    "filename = 'Babi_q_and_a.keras'\n",
    "model.save(filename)"
   ]
  },
  {
   "cell_type": "markdown",
   "metadata": {},
   "source": [
    "## Evaluating the Model\n",
    "\n",
    "### Plotting Out Training History"
   ]
  },
  {
   "cell_type": "code",
   "execution_count": 52,
   "metadata": {},
   "outputs": [
    {
     "name": "stdout",
     "output_type": "stream",
     "text": [
      "dict_keys(['loss', 'accuracy', 'val_loss', 'val_accuracy'])\n"
     ]
    },
    {
     "data": {
      "image/png": "[encoded data removed]",
      "text/plain": [
       "<Figure size 640x480 with 1 Axes>"
      ]
     },
     "metadata": {},
     "output_type": "display_data"
    }
   ],
   "source": [
    "import matplotlib.pyplot as plt\n",
    "\n",
    "# Print the keys available in the history object.\n",
    "# This gives an idea of the metrics that were recorded during training.\n",
    "print(history.history.keys())\n",
    "\n",
    "# Plot the training accuracy recorded at each epoch.\n",
    "plt.plot(history.history['accuracy'])\n",
    "\n",
    "# Plot the validation accuracy recorded at each epoch.\n",
    "plt.plot(history.history['val_accuracy'])\n",
    "\n",
    "plt.title('model accuracy')\n",
    "plt.ylabel('accuracy')\n",
    "plt.xlabel('epoch')\n",
    "plt.legend(['train', 'test'], loc='upper left')\n",
    "plt.show()"
   ]
  },
  {
   "cell_type": "markdown",
   "metadata": {},
   "source": [
    "### Evaluating on Given Test Set"
   ]
  },
  {
   "cell_type": "code",
   "execution_count": 53,
   "metadata": {},
   "outputs": [
    {
     "name": "stdout",
     "output_type": "stream",
     "text": [
      "32/32 [==============================] - 1s 4ms/step\n"
     ]
    }
   ],
   "source": [
    "model.load_weights('Babi_q_and_a.keras')\n",
    "\n",
    "# Use the model to make predictions on the test dataset.\n",
    "# The predictions will be in the form of probability distributions over the vocabulary for each test sample.\n",
    "pred_results = model.predict(([inputs_test, queries_test]))"
   ]
  },
  {
   "cell_type": "code",
   "execution_count": 54,
   "metadata": {},
   "outputs": [
    {
     "data": {
      "text/plain": [
       "['Mary',\n",
       " 'got',\n",
       " 'the',\n",
       " 'milk',\n",
       " 'there',\n",
       " '.',\n",
       " 'John',\n",
       " 'moved',\n",
       " 'to',\n",
       " 'the',\n",
       " 'bedroom',\n",
       " '.']"
      ]
     },
     "execution_count": 54,
     "metadata": {},
     "output_type": "execute_result"
    }
   ],
   "source": [
    "test_data[0][0]"
   ]
  },
  {
   "cell_type": "code",
   "execution_count": 55,
   "metadata": {},
   "outputs": [
    {
     "name": "stdout",
     "output_type": "stream",
     "text": [
      "Mary got the milk there . John moved to the bedroom .\n"
     ]
    }
   ],
   "source": [
    "story =' '.join(word for word in test_data[0][0])\n",
    "print(story)"
   ]
  },
  {
   "cell_type": "code",
   "execution_count": 56,
   "metadata": {},
   "outputs": [
    {
     "name": "stdout",
     "output_type": "stream",
     "text": [
      "Is John in the kitchen ?\n"
     ]
    }
   ],
   "source": [
    "query = ' '.join(word for word in test_data[0][1])\n",
    "print(query)"
   ]
  },
  {
   "cell_type": "code",
   "execution_count": 57,
   "metadata": {},
   "outputs": [
    {
     "name": "stdout",
     "output_type": "stream",
     "text": [
      "True Test Answer from Data is: no\n"
     ]
    }
   ],
   "source": [
    "print(\"True Test Answer from Data is:\",test_data[0][2])"
   ]
  },
  {
   "cell_type": "code",
   "execution_count": 58,
   "metadata": {},
   "outputs": [
    {
     "name": "stdout",
     "output_type": "stream",
     "text": [
      "Predicted answer is:  no\n",
      "Probability of certainty was:  0.9749196\n"
     ]
    }
   ],
   "source": [
    "# Find the index of the maximum value in the first prediction result.\n",
    "# This corresponds to the word (answer) that the model is most confident about for the first test sample.\n",
    "val_max = np.argmax(pred_results[0])\n",
    "\n",
    "# Iterate over the items in the tokenizer's word_index dictionary.\n",
    "# This dictionary maps words to their corresponding integer values.\n",
    "# The goal is to find the word associated with the maximum value in the prediction.\n",
    "for key, val in tokenizer.word_index.items():\n",
    "    if val == val_max:\n",
    "        k = key   # Store the word that corresponds to the maximum value.\n",
    "\n",
    "# Print the predicted answer.\n",
    "print(\"Predicted answer is: \", k)\n",
    "\n",
    "# Print the model's confidence (probability) associated with this answer.\n",
    "print(\"Probability of certainty was: \", pred_results[0][val_max])"
   ]
  },
  {
   "cell_type": "markdown",
   "metadata": {},
   "source": [
    "## Writing Your Own Stories and Questions\n",
    "\n",
    "Remember you can only use words from the existing vocab"
   ]
  },
  {
   "cell_type": "code",
   "execution_count": 59,
   "metadata": {},
   "outputs": [
    {
     "data": {
      "text/plain": [
       "{'.',\n",
       " '?',\n",
       " 'Daniel',\n",
       " 'Is',\n",
       " 'John',\n",
       " 'Mary',\n",
       " 'Sandra',\n",
       " 'apple',\n",
       " 'back',\n",
       " 'bathroom',\n",
       " 'bedroom',\n",
       " 'discarded',\n",
       " 'down',\n",
       " 'dropped',\n",
       " 'football',\n",
       " 'garden',\n",
       " 'got',\n",
       " 'grabbed',\n",
       " 'hallway',\n",
       " 'in',\n",
       " 'journeyed',\n",
       " 'kitchen',\n",
       " 'left',\n",
       " 'milk',\n",
       " 'moved',\n",
       " 'no',\n",
       " 'office',\n",
       " 'picked',\n",
       " 'put',\n",
       " 'the',\n",
       " 'there',\n",
       " 'to',\n",
       " 'took',\n",
       " 'travelled',\n",
       " 'up',\n",
       " 'went',\n",
       " 'yes'}"
      ]
     },
     "execution_count": 59,
     "metadata": {},
     "output_type": "execute_result"
    }
   ],
   "source": [
    "# Running this cell displays the list of vocabulary words we can use\n",
    "vocab"
   ]
  },
  {
   "cell_type": "code",
   "execution_count": 60,
   "metadata": {},
   "outputs": [
    {
     "data": {
      "text/plain": [
       "['John',\n",
       " 'left',\n",
       " 'the',\n",
       " 'kitchen',\n",
       " '.',\n",
       " 'Sandra',\n",
       " 'dropped',\n",
       " 'the',\n",
       " 'football',\n",
       " 'in',\n",
       " 'the',\n",
       " 'garden',\n",
       " '.']"
      ]
     },
     "execution_count": 60,
     "metadata": {},
     "output_type": "execute_result"
    }
   ],
   "source": [
    "# Define a string `my_story` containing a short narrative.\n",
    "# Note that there are whitespaces before the periods, which will affect the splitting.\n",
    "my_story = \"John left the kitchen . Sandra dropped the football in the garden .\"\n",
    "\n",
    "# Use the `split()` method to divide the `my_story` string into individual words and punctuation marks.\n",
    "# Since no delimiter is specified, `split()` will use whitespace as the default delimiter.\n",
    "# As a result, the periods will be separate items in the resulting list due to the preceding whitespace.\n",
    "my_story.split()"
   ]
  },
  {
   "cell_type": "code",
   "execution_count": 61,
   "metadata": {},
   "outputs": [
    {
     "data": {
      "text/plain": [
       "['Is', 'the', 'football', 'in', 'the', 'garden', '?']"
      ]
     },
     "execution_count": 61,
     "metadata": {},
     "output_type": "execute_result"
    }
   ],
   "source": [
    "my_question = \"Is the football in the garden ?\"\n",
    "my_question.split() "
   ]
  },
  {
   "cell_type": "code",
   "execution_count": 62,
   "metadata": {},
   "outputs": [],
   "source": [
    "# Create a new list `mydata` to store the story, question, and answer data.\n",
    "\n",
    "# `my_story.split()` takes the `my_story` string and splits it into individual words and punctuation.\n",
    "# Each word or punctuation mark becomes a separate element in a list.\n",
    "\n",
    "# `my_question.split()` does the same for the `my_question` string.\n",
    "\n",
    "# 'yes' is the answer associated with this particular story and question.\n",
    "mydata = [(my_story.split(),my_question.split(),'yes')]"
   ]
  },
  {
   "cell_type": "code",
   "execution_count": 63,
   "metadata": {},
   "outputs": [
    {
     "data": {
      "text/plain": [
       "[(['John',\n",
       "   'left',\n",
       "   'the',\n",
       "   'kitchen',\n",
       "   '.',\n",
       "   'Sandra',\n",
       "   'dropped',\n",
       "   'the',\n",
       "   'football',\n",
       "   'in',\n",
       "   'the',\n",
       "   'garden',\n",
       "   '.'],\n",
       "  ['Is', 'the', 'football', 'in', 'the', 'garden', '?'],\n",
       "  'yes')]"
      ]
     },
     "execution_count": 63,
     "metadata": {},
     "output_type": "execute_result"
    }
   ],
   "source": [
    "mydata"
   ]
  },
  {
   "cell_type": "code",
   "execution_count": 64,
   "metadata": {},
   "outputs": [],
   "source": [
    "my_story,my_ques,my_ans = vectorize_stories(mydata)"
   ]
  },
  {
   "cell_type": "code",
   "execution_count": 65,
   "metadata": {},
   "outputs": [
    {
     "data": {
      "text/plain": [
       "array([[ 0,  0,  0,  0,  0,  0,  0,  0,  0,  0,  0,  0,  0,  0,  0,  0,\n",
       "         0,  0,  0,  0,  0,  0,  0,  0,  0,  0,  0,  0,  0,  0,  0,  0,\n",
       "         0,  0,  0,  0,  0,  0,  0,  0,  0,  0,  0,  0,  0,  0,  0,  0,\n",
       "         0,  0,  0,  0,  0,  0,  0,  0,  0,  0,  0,  0,  0,  0,  0,  0,\n",
       "         0,  0,  0,  0,  0,  0,  0,  0,  0,  0,  0,  0,  0,  0,  0,  0,\n",
       "         0,  0,  0,  0,  0,  0,  0,  0,  0,  0,  0,  0,  0,  0,  0,  0,\n",
       "         0,  0,  0,  0,  0,  0,  0,  0,  0,  0,  0,  0,  0,  0,  0,  0,\n",
       "         0,  0,  0,  0,  0,  0,  0,  0,  0,  0,  0,  0,  0,  0,  0,  0,\n",
       "         0,  0,  0,  0,  0,  0,  0,  0,  0,  0,  0,  0,  0,  0,  0, 23,\n",
       "        12, 34, 19,  6, 25, 27, 34, 15, 31, 34, 32,  6]])"
      ]
     },
     "execution_count": 65,
     "metadata": {},
     "output_type": "execute_result"
    }
   ],
   "source": [
    "my_story"
   ]
  },
  {
   "cell_type": "code",
   "execution_count": 66,
   "metadata": {},
   "outputs": [
    {
     "name": "stdout",
     "output_type": "stream",
     "text": [
      "1/1 [==============================] - 0s 16ms/step\n"
     ]
    }
   ],
   "source": [
    "pred_results = model.predict(([ my_story, my_ques]))"
   ]
  },
  {
   "cell_type": "code",
   "execution_count": 67,
   "metadata": {},
   "outputs": [
    {
     "name": "stdout",
     "output_type": "stream",
     "text": [
      "Predicted answer is:  yes\n",
      "Probability of certainty was:  0.97491986\n"
     ]
    }
   ],
   "source": [
    "#Generate prediction from model\n",
    "val_max = np.argmax(pred_results[0])\n",
    "\n",
    "for key, val in tokenizer.word_index.items():\n",
    "    if val == val_max:\n",
    "        k = key\n",
    "\n",
    "print(\"Predicted answer is: \", k)\n",
    "print(\"Probability of certainty was: \", pred_results[0][val_max])"
   ]
  }
 ],
 "metadata": {
  "kernelspec": {
   "display_name": "Python 3 (ipykernel)",
   "language": "python",
   "name": "python3"
  },
  "language_info": {
   "codemirror_mode": {
    "name": "ipython",
    "version": 3
   },
   "file_extension": ".py",
   "mimetype": "text/x-python",
   "name": "python",
   "nbconvert_exporter": "python",
   "pygments_lexer": "ipython3",
   "version": "3.10.9"
  }
 },
 "nbformat": 4,
 "nbformat_minor": 2
}
