{
 "cells": [
  {
   "cell_type": "code",
   "execution_count": 1,
   "id": "ebf8f643",
   "metadata": {},
   "outputs": [],
   "source": [
    "import numpy as np\n",
    "import pandas as pd\n",
    "import matplotlib.pyplot as plt\n",
    "\n",
    "from sklearn.model_selection import train_test_split\n",
    "\n",
    "from tensorflow.keras.preprocessing.text import Tokenizer\n",
    "from tensorflow.keras.preprocessing.sequence import pad_sequences\n",
    "from tensorflow.keras.layers import Dense, Input, GlobalMaxPooling1D\n",
    "from tensorflow.keras.layers import LSTM, Embedding\n",
    "from tensorflow.keras.models import Model"
   ]
  },
  {
   "cell_type": "code",
   "execution_count": 3,
   "id": "e0e719c6",
   "metadata": {},
   "outputs": [],
   "source": [
    "df = pd.read_csv(r'C:\\Users\\Chang.LAPTOP-KLP71L1N\\Documents\\AIE NLP Practical Course\\Project6 Text Classification with CNN\\spam.csv', encoding='ISO-8859-1')"
   ]
  },
  {
   "cell_type": "code",
   "execution_count": 4,
   "id": "9d81b910",
   "metadata": {},
   "outputs": [
    {
     "data": {
      "text/html": [
       "<div>\n",
       "<style scoped>\n",
       "    .dataframe tbody tr th:only-of-type {\n",
       "        vertical-align: middle;\n",
       "    }\n",
       "\n",
       "    .dataframe tbody tr th {\n",
       "        vertical-align: top;\n",
       "    }\n",
       "\n",
       "    .dataframe thead th {\n",
       "        text-align: right;\n",
       "    }\n",
       "</style>\n",
       "<table border=\"1\" class=\"dataframe\">\n",
       "  <thead>\n",
       "    <tr style=\"text-align: right;\">\n",
       "      <th></th>\n",
       "      <th>v1</th>\n",
       "      <th>v2</th>\n",
       "      <th>Unnamed: 2</th>\n",
       "      <th>Unnamed: 3</th>\n",
       "      <th>Unnamed: 4</th>\n",
       "    </tr>\n",
       "  </thead>\n",
       "  <tbody>\n",
       "    <tr>\n",
       "      <th>0</th>\n",
       "      <td>ham</td>\n",
       "      <td>Go until jurong point, crazy.. Available only ...</td>\n",
       "      <td>NaN</td>\n",
       "      <td>NaN</td>\n",
       "      <td>NaN</td>\n",
       "    </tr>\n",
       "    <tr>\n",
       "      <th>1</th>\n",
       "      <td>ham</td>\n",
       "      <td>Ok lar... Joking wif u oni...</td>\n",
       "      <td>NaN</td>\n",
       "      <td>NaN</td>\n",
       "      <td>NaN</td>\n",
       "    </tr>\n",
       "    <tr>\n",
       "      <th>2</th>\n",
       "      <td>spam</td>\n",
       "      <td>Free entry in 2 a wkly comp to win FA Cup fina...</td>\n",
       "      <td>NaN</td>\n",
       "      <td>NaN</td>\n",
       "      <td>NaN</td>\n",
       "    </tr>\n",
       "    <tr>\n",
       "      <th>3</th>\n",
       "      <td>ham</td>\n",
       "      <td>U dun say so early hor... U c already then say...</td>\n",
       "      <td>NaN</td>\n",
       "      <td>NaN</td>\n",
       "      <td>NaN</td>\n",
       "    </tr>\n",
       "    <tr>\n",
       "      <th>4</th>\n",
       "      <td>ham</td>\n",
       "      <td>Nah I don't think he goes to usf, he lives aro...</td>\n",
       "      <td>NaN</td>\n",
       "      <td>NaN</td>\n",
       "      <td>NaN</td>\n",
       "    </tr>\n",
       "  </tbody>\n",
       "</table>\n",
       "</div>"
      ],
      "text/plain": [
       "     v1                                                 v2 Unnamed: 2  \\\n",
       "0   ham  Go until jurong point, crazy.. Available only ...        NaN   \n",
       "1   ham                      Ok lar... Joking wif u oni...        NaN   \n",
       "2  spam  Free entry in 2 a wkly comp to win FA Cup fina...        NaN   \n",
       "3   ham  U dun say so early hor... U c already then say...        NaN   \n",
       "4   ham  Nah I don't think he goes to usf, he lives aro...        NaN   \n",
       "\n",
       "  Unnamed: 3 Unnamed: 4  \n",
       "0        NaN        NaN  \n",
       "1        NaN        NaN  \n",
       "2        NaN        NaN  \n",
       "3        NaN        NaN  \n",
       "4        NaN        NaN  "
      ]
     },
     "execution_count": 4,
     "metadata": {},
     "output_type": "execute_result"
    }
   ],
   "source": [
    "df.head()"
   ]
  },
  {
   "cell_type": "markdown",
   "id": "0ba6ffa5",
   "metadata": {},
   "source": [
    "# Data Preprocessing"
   ]
  },
  {
   "cell_type": "code",
   "execution_count": 5,
   "id": "7babde80",
   "metadata": {},
   "outputs": [],
   "source": [
    "# drop garbage columns\n",
    "df = df.drop([\"Unnamed: 2\", \"Unnamed: 3\", \"Unnamed: 4\"], axis=1)"
   ]
  },
  {
   "cell_type": "code",
   "execution_count": 6,
   "id": "58e56e94",
   "metadata": {},
   "outputs": [
    {
     "data": {
      "text/html": [
       "<div>\n",
       "<style scoped>\n",
       "    .dataframe tbody tr th:only-of-type {\n",
       "        vertical-align: middle;\n",
       "    }\n",
       "\n",
       "    .dataframe tbody tr th {\n",
       "        vertical-align: top;\n",
       "    }\n",
       "\n",
       "    .dataframe thead th {\n",
       "        text-align: right;\n",
       "    }\n",
       "</style>\n",
       "<table border=\"1\" class=\"dataframe\">\n",
       "  <thead>\n",
       "    <tr style=\"text-align: right;\">\n",
       "      <th></th>\n",
       "      <th>v1</th>\n",
       "      <th>v2</th>\n",
       "    </tr>\n",
       "  </thead>\n",
       "  <tbody>\n",
       "    <tr>\n",
       "      <th>0</th>\n",
       "      <td>ham</td>\n",
       "      <td>Go until jurong point, crazy.. Available only ...</td>\n",
       "    </tr>\n",
       "    <tr>\n",
       "      <th>1</th>\n",
       "      <td>ham</td>\n",
       "      <td>Ok lar... Joking wif u oni...</td>\n",
       "    </tr>\n",
       "    <tr>\n",
       "      <th>2</th>\n",
       "      <td>spam</td>\n",
       "      <td>Free entry in 2 a wkly comp to win FA Cup fina...</td>\n",
       "    </tr>\n",
       "    <tr>\n",
       "      <th>3</th>\n",
       "      <td>ham</td>\n",
       "      <td>U dun say so early hor... U c already then say...</td>\n",
       "    </tr>\n",
       "    <tr>\n",
       "      <th>4</th>\n",
       "      <td>ham</td>\n",
       "      <td>Nah I don't think he goes to usf, he lives aro...</td>\n",
       "    </tr>\n",
       "  </tbody>\n",
       "</table>\n",
       "</div>"
      ],
      "text/plain": [
       "     v1                                                 v2\n",
       "0   ham  Go until jurong point, crazy.. Available only ...\n",
       "1   ham                      Ok lar... Joking wif u oni...\n",
       "2  spam  Free entry in 2 a wkly comp to win FA Cup fina...\n",
       "3   ham  U dun say so early hor... U c already then say...\n",
       "4   ham  Nah I don't think he goes to usf, he lives aro..."
      ]
     },
     "execution_count": 6,
     "metadata": {},
     "output_type": "execute_result"
    }
   ],
   "source": [
    "df.head()"
   ]
  },
  {
   "cell_type": "code",
   "execution_count": 7,
   "id": "3078f9a3",
   "metadata": {},
   "outputs": [],
   "source": [
    "# rename columns\n",
    "df.columns = ['labels', 'data']"
   ]
  },
  {
   "cell_type": "code",
   "execution_count": 8,
   "id": "4dac5589",
   "metadata": {},
   "outputs": [
    {
     "data": {
      "text/html": [
       "<div>\n",
       "<style scoped>\n",
       "    .dataframe tbody tr th:only-of-type {\n",
       "        vertical-align: middle;\n",
       "    }\n",
       "\n",
       "    .dataframe tbody tr th {\n",
       "        vertical-align: top;\n",
       "    }\n",
       "\n",
       "    .dataframe thead th {\n",
       "        text-align: right;\n",
       "    }\n",
       "</style>\n",
       "<table border=\"1\" class=\"dataframe\">\n",
       "  <thead>\n",
       "    <tr style=\"text-align: right;\">\n",
       "      <th></th>\n",
       "      <th>labels</th>\n",
       "      <th>data</th>\n",
       "    </tr>\n",
       "  </thead>\n",
       "  <tbody>\n",
       "    <tr>\n",
       "      <th>0</th>\n",
       "      <td>ham</td>\n",
       "      <td>Go until jurong point, crazy.. Available only ...</td>\n",
       "    </tr>\n",
       "    <tr>\n",
       "      <th>1</th>\n",
       "      <td>ham</td>\n",
       "      <td>Ok lar... Joking wif u oni...</td>\n",
       "    </tr>\n",
       "    <tr>\n",
       "      <th>2</th>\n",
       "      <td>spam</td>\n",
       "      <td>Free entry in 2 a wkly comp to win FA Cup fina...</td>\n",
       "    </tr>\n",
       "    <tr>\n",
       "      <th>3</th>\n",
       "      <td>ham</td>\n",
       "      <td>U dun say so early hor... U c already then say...</td>\n",
       "    </tr>\n",
       "    <tr>\n",
       "      <th>4</th>\n",
       "      <td>ham</td>\n",
       "      <td>Nah I don't think he goes to usf, he lives aro...</td>\n",
       "    </tr>\n",
       "  </tbody>\n",
       "</table>\n",
       "</div>"
      ],
      "text/plain": [
       "  labels                                               data\n",
       "0    ham  Go until jurong point, crazy.. Available only ...\n",
       "1    ham                      Ok lar... Joking wif u oni...\n",
       "2   spam  Free entry in 2 a wkly comp to win FA Cup fina...\n",
       "3    ham  U dun say so early hor... U c already then say...\n",
       "4    ham  Nah I don't think he goes to usf, he lives aro..."
      ]
     },
     "execution_count": 8,
     "metadata": {},
     "output_type": "execute_result"
    }
   ],
   "source": [
    "df.head()"
   ]
  },
  {
   "cell_type": "code",
   "execution_count": 9,
   "id": "5ce45aa8",
   "metadata": {},
   "outputs": [],
   "source": [
    "# create binary labels (0 and 1)\n",
    "df['b_labels'] = df['labels'].map({'ham': 0, 'spam': 1}) # create new column as 'b_labels'\n",
    "y = df['b_labels'].values"
   ]
  },
  {
   "cell_type": "code",
   "execution_count": 10,
   "id": "4a0129d5",
   "metadata": {},
   "outputs": [],
   "source": [
    "# split the data\n",
    "x_train, x_test, y_train, y_test = train_test_split(df['data'], y, test_size=0.33)"
   ]
  },
  {
   "cell_type": "code",
   "execution_count": 11,
   "id": "f1a9c07a",
   "metadata": {},
   "outputs": [],
   "source": [
    "# Initialize a tokenizer with a maximum vocabulary size of 20,000 words\n",
    "max_vocab_size = 20000\n",
    "tokenizer = Tokenizer(num_words=max_vocab_size)\n",
    "\n",
    "# Fit the tokenizer on the training data to build the vocabulary\n",
    "tokenizer.fit_on_texts(x_train) \n",
    "\n",
    "# Convert the training text data into sequences of integers using the tokenizer\n",
    "sequences_train = tokenizer.texts_to_sequences(x_train)\n",
    "\n",
    "# Convert the test text data into sequences of integers using the tokenizer\n",
    "sequences_test = tokenizer.texts_to_sequences(x_test)"
   ]
  },
  {
   "cell_type": "code",
   "execution_count": null,
   "id": "ca492f33",
   "metadata": {},
   "outputs": [],
   "source": [
    "# Check word index mapping (to check the number of words in vocabulary):\n",
    "word2idx = tokenizer.word_index # Extract the word-to-index mapping from the tokenizer\n",
    "V = len(word2idx) # Compute the total number of unique tokens in the vocabulary\n",
    "print('Total number of unique tokens are: %s' % V)"
   ]
  },
  {
   "cell_type": "code",
   "execution_count": 14,
   "id": "a3d94ab5",
   "metadata": {},
   "outputs": [
    {
     "name": "stdout",
     "output_type": "stream",
     "text": [
      "Shape of data train tensor: (3733, 189)\n"
     ]
    }
   ],
   "source": [
    "# N: number of samples and T: Number of time steps\n",
    "\n",
    "data_train = pad_sequences(sequences_train) # pad sequences (to get  N x T matrix)\n",
    "print('Shape of data train tensor:', data_train.shape)"
   ]
  },
  {
   "cell_type": "code",
   "execution_count": 16,
   "id": "42580455",
   "metadata": {},
   "outputs": [],
   "source": [
    "T = data_train.shape[1] # Assign the sequence length of the data_train dataset to the variable T\n",
    "print(T)"
   ]
  },
  {
   "cell_type": "code",
   "execution_count": null,
   "id": "4a1abcb2",
   "metadata": {},
   "outputs": [],
   "source": [
    "data_test = pad_sequences(sequences_test, maxlen=T) # Pad or truncate sequences in the test set to have a consistent length of T\n",
    "print('Shape of data test tensor:', data_test.shape)"
   ]
  },
  {
   "cell_type": "markdown",
   "id": "35c05479",
   "metadata": {},
   "source": [
    "# Building the Model"
   ]
  },
  {
   "cell_type": "code",
   "execution_count": 19,
   "id": "d9da0e64",
   "metadata": {},
   "outputs": [],
   "source": [
    "# Set the dimensionality of word embeddings to 20\n",
    "D = 20  # this is a hyper parameter, we can choose any word vector size that we want\n",
    "\n",
    "# Define the size of the hidden state vectors for the LSTM layer\n",
    "M = 15\n",
    "\n",
    "# Input layer\n",
    "i = Input(shape=(T,))  # Define the input layer with input shape of length T\n",
    "\n",
    "# Embedding layer\n",
    "x = Embedding(V + 1, D)(i) # Add an embedding layer to transform integer sequences into dense vectors\n",
    "# This will be an N * T * D array\n",
    "# we want size of embedding to (V + 1) x D, because first word index starts from 1 and not 0\n",
    "\n",
    "# LSTM layer\n",
    "x = LSTM(M, return_sequences=True)(x) # Add an LSTM layer that returns hidden states for each position in the sequence\n",
    "x = GlobalMaxPooling1D()(x) # Apply global max-pooling to capture the most important feature from the sequence\n",
    "\n",
    "# Dense layer\n",
    "x = Dense(1, activation='sigmoid')(x) # Add a dense output layer with a sigmoid activation for binary classification\n",
    "\n",
    "model = Model(i, x)"
   ]
  },
  {
   "cell_type": "code",
   "execution_count": 20,
   "id": "8fda74ca",
   "metadata": {},
   "outputs": [],
   "source": [
    "# Compile the model\n",
    "model.compile(optimizer='adam', loss='binary_crossentropy', metrics=['accuracy'])"
   ]
  },
  {
   "cell_type": "code",
   "execution_count": 21,
   "id": "5fa2aee7",
   "metadata": {},
   "outputs": [
    {
     "name": "stdout",
     "output_type": "stream",
     "text": [
      "Epoch 1/10\n",
      "117/117 [==============================] - 12s 74ms/step - loss: 0.4511 - accuracy: 0.8647 - val_loss: 0.3931 - val_accuracy: 0.8575\n",
      "Epoch 2/10\n",
      "117/117 [==============================] - 8s 66ms/step - loss: 0.2842 - accuracy: 0.8701 - val_loss: 0.2292 - val_accuracy: 0.8575\n",
      "Epoch 3/10\n",
      "117/117 [==============================] - 8s 67ms/step - loss: 0.2849 - accuracy: 0.8701 - val_loss: 0.2165 - val_accuracy: 0.8575\n",
      "Epoch 4/10\n",
      "117/117 [==============================] - 8s 69ms/step - loss: 0.1757 - accuracy: 0.8819 - val_loss: 0.1805 - val_accuracy: 0.9342\n",
      "Epoch 5/10\n",
      "117/117 [==============================] - 8s 68ms/step - loss: 0.1437 - accuracy: 0.9866 - val_loss: 0.1586 - val_accuracy: 0.9804\n",
      "Epoch 6/10\n",
      "117/117 [==============================] - 8s 65ms/step - loss: 0.1167 - accuracy: 0.9971 - val_loss: 0.1302 - val_accuracy: 0.9869\n",
      "Epoch 7/10\n",
      "117/117 [==============================] - 8s 69ms/step - loss: 0.0907 - accuracy: 0.9984 - val_loss: 0.1056 - val_accuracy: 0.9891\n",
      "Epoch 8/10\n",
      "117/117 [==============================] - 8s 68ms/step - loss: 0.0656 - accuracy: 0.9989 - val_loss: 0.0841 - val_accuracy: 0.9880\n",
      "Epoch 9/10\n",
      "117/117 [==============================] - 8s 70ms/step - loss: 0.0455 - accuracy: 0.9992 - val_loss: 0.0720 - val_accuracy: 0.9880\n",
      "Epoch 10/10\n",
      "117/117 [==============================] - 8s 70ms/step - loss: 0.0385 - accuracy: 0.9968 - val_loss: 0.0674 - val_accuracy: 0.9859\n"
     ]
    }
   ],
   "source": [
    "# Train the model\n",
    "r = model.fit(x=data_train, y=y_train, epochs=10, validation_data=(data_test, y_test))"
   ]
  },
  {
   "cell_type": "code",
   "execution_count": 22,
   "id": "98c1d4e4",
   "metadata": {},
   "outputs": [
    {
     "data": {
      "image/png": "[encoded data removed]",
      "text/plain": [
       "<Figure size 640x480 with 1 Axes>"
      ]
     },
     "metadata": {},
     "output_type": "display_data"
    }
   ],
   "source": [
    "# Loss per iteration\n",
    "import matplotlib.pyplot as plt\n",
    "plt.plot(r.history['loss'], label='Loss')\n",
    "plt.plot(r.history['val_loss'], label='Validation Loss')\n",
    "plt.legend()\n",
    "plt.show()"
   ]
  },
  {
   "cell_type": "code",
   "execution_count": 23,
   "id": "3f822d86",
   "metadata": {},
   "outputs": [
    {
     "data": {
      "image/png": "[encoded data removed]",
      "text/plain": [
       "<Figure size 640x480 with 1 Axes>"
      ]
     },
     "metadata": {},
     "output_type": "display_data"
    }
   ],
   "source": [
    "# Accuracy per iteration\n",
    "plt.plot(r.history['accuracy'], label='Accuracy')\n",
    "plt.plot(r.history['val_accuracy'], label='Validation accuracy')\n",
    "plt.legend()\n",
    "plt.show()"
   ]
  },
  {
   "cell_type": "code",
   "execution_count": null,
   "id": "448fc30c",
   "metadata": {},
   "outputs": [],
   "source": []
  }
 ],
 "metadata": {
  "kernelspec": {
   "display_name": "Python 3 (ipykernel)",
   "language": "python",
   "name": "python3"
  },
  "language_info": {
   "codemirror_mode": {
    "name": "ipython",
    "version": 3
   },
   "file_extension": ".py",
   "mimetype": "text/x-python",
   "name": "python",
   "nbconvert_exporter": "python",
   "pygments_lexer": "ipython3",
   "version": "3.10.9"
  }
 },
 "nbformat": 4,
 "nbformat_minor": 5
}
