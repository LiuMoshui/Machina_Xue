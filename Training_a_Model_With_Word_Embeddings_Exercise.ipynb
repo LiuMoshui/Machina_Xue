{
 "cells": [
  {
   "cell_type": "code",
   "execution_count": 1,
   "id": "8d4917ec",
   "metadata": {},
   "outputs": [
    {
     "name": "stdout",
     "output_type": "stream",
     "text": [
      "2.13.0\n"
     ]
    }
   ],
   "source": [
    "#import tensorflow as tf\n",
    "#print(tf.__version__)"
   ]
  },
  {
   "cell_type": "code",
   "execution_count": 2,
   "id": "c24c8121",
   "metadata": {},
   "outputs": [],
   "source": [
    "import nltk\n",
    "#nltk.download('punkt')"
   ]
  },
  {
   "cell_type": "code",
   "execution_count": 3,
   "id": "7300cb82",
   "metadata": {},
   "outputs": [],
   "source": [
    "import nltk\n",
    "import pandas as pd\n",
    "import gensim\n",
    "from gensim.models import Word2Vec, KeyedVectors"
   ]
  },
  {
   "cell_type": "markdown",
   "id": "fbe95ba2",
   "metadata": {},
   "source": [
    "# Data Preprocessing"
   ]
  },
  {
   "cell_type": "code",
   "execution_count": 4,
   "id": "1f23d0e3",
   "metadata": {},
   "outputs": [],
   "source": [
    "# google pretrained model\n",
    "\n",
    "# https://www.kaggle.com/rootuser/worldnews-on-reddit"
   ]
  },
  {
   "cell_type": "code",
   "execution_count": 5,
   "id": "8e0b798d",
   "metadata": {},
   "outputs": [],
   "source": [
    "# create a directory as kaggle\n",
    "#import os\n",
    "#os.makedirs(os.path.expanduser('~/.kaggle'), exist_ok=True)"
   ]
  },
  {
   "cell_type": "code",
   "execution_count": 6,
   "id": "0b228f0a",
   "metadata": {},
   "outputs": [],
   "source": [
    "# copy API key to kaggle directory\n",
    "#!copy C:\\Users\\Chang.LAPTOP-KLP71L1N\\Downloads\\kaggle.json C:\\Users\\Chang.LAPTOP-KLP71L1N\\.kaggle"
   ]
  },
  {
   "cell_type": "code",
   "execution_count": 7,
   "id": "11c4070d",
   "metadata": {
    "scrolled": true
   },
   "outputs": [
    {
     "name": "stdout",
     "output_type": "stream",
     "text": [
      "worldnews-on-reddit.zip: Skipping, found more recently modified local copy (use --force to force download)\n"
     ]
    }
   ],
   "source": [
    "# import the dataset\n",
    "#! kaggle datasets download -d rootuser/worldnews-on-reddit"
   ]
  },
  {
   "cell_type": "code",
   "execution_count": 8,
   "id": "c9456f63",
   "metadata": {},
   "outputs": [],
   "source": [
    "# unzip the dataset\n",
    "#!bsdtar -xf \"C:\\Users\\Chang.LAPTOP-KLP71L1N\\Documents\\AIE NLP Practical Course\\Word Embeddings\\worldnews-on-reddit.zip\""
   ]
  },
  {
   "cell_type": "code",
   "execution_count": 9,
   "id": "de08ea32",
   "metadata": {
    "scrolled": true
   },
   "outputs": [],
   "source": [
    "df = pd.read_csv(r'C:\\Users\\Chang.LAPTOP-KLP71L1N\\Documents\\AIE NLP Practical Course\\Word Embeddings\\reddit_worldnews_start_to_2016-11-22.csv')"
   ]
  },
  {
   "cell_type": "code",
   "execution_count": 10,
   "id": "bb133711",
   "metadata": {},
   "outputs": [
    {
     "data": {
      "text/html": [
       "<div>\n",
       "<style scoped>\n",
       "    .dataframe tbody tr th:only-of-type {\n",
       "        vertical-align: middle;\n",
       "    }\n",
       "\n",
       "    .dataframe tbody tr th {\n",
       "        vertical-align: top;\n",
       "    }\n",
       "\n",
       "    .dataframe thead th {\n",
       "        text-align: right;\n",
       "    }\n",
       "</style>\n",
       "<table border=\"1\" class=\"dataframe\">\n",
       "  <thead>\n",
       "    <tr style=\"text-align: right;\">\n",
       "      <th></th>\n",
       "      <th>time_created</th>\n",
       "      <th>date_created</th>\n",
       "      <th>up_votes</th>\n",
       "      <th>down_votes</th>\n",
       "      <th>title</th>\n",
       "      <th>over_18</th>\n",
       "      <th>author</th>\n",
       "      <th>subreddit</th>\n",
       "    </tr>\n",
       "  </thead>\n",
       "  <tbody>\n",
       "    <tr>\n",
       "      <th>0</th>\n",
       "      <td>1201232046</td>\n",
       "      <td>2008-01-25</td>\n",
       "      <td>3</td>\n",
       "      <td>0</td>\n",
       "      <td>Scores killed in Pakistan clashes</td>\n",
       "      <td>False</td>\n",
       "      <td>polar</td>\n",
       "      <td>worldnews</td>\n",
       "    </tr>\n",
       "    <tr>\n",
       "      <th>1</th>\n",
       "      <td>1201232075</td>\n",
       "      <td>2008-01-25</td>\n",
       "      <td>2</td>\n",
       "      <td>0</td>\n",
       "      <td>Japan resumes refuelling mission</td>\n",
       "      <td>False</td>\n",
       "      <td>polar</td>\n",
       "      <td>worldnews</td>\n",
       "    </tr>\n",
       "    <tr>\n",
       "      <th>2</th>\n",
       "      <td>1201232523</td>\n",
       "      <td>2008-01-25</td>\n",
       "      <td>3</td>\n",
       "      <td>0</td>\n",
       "      <td>US presses Egypt on Gaza border</td>\n",
       "      <td>False</td>\n",
       "      <td>polar</td>\n",
       "      <td>worldnews</td>\n",
       "    </tr>\n",
       "    <tr>\n",
       "      <th>3</th>\n",
       "      <td>1201233290</td>\n",
       "      <td>2008-01-25</td>\n",
       "      <td>1</td>\n",
       "      <td>0</td>\n",
       "      <td>Jump-start economy: Give health care to all</td>\n",
       "      <td>False</td>\n",
       "      <td>fadi420</td>\n",
       "      <td>worldnews</td>\n",
       "    </tr>\n",
       "    <tr>\n",
       "      <th>4</th>\n",
       "      <td>1201274720</td>\n",
       "      <td>2008-01-25</td>\n",
       "      <td>4</td>\n",
       "      <td>0</td>\n",
       "      <td>Council of Europe bashes EU&amp;UN terror blacklist</td>\n",
       "      <td>False</td>\n",
       "      <td>mhermans</td>\n",
       "      <td>worldnews</td>\n",
       "    </tr>\n",
       "  </tbody>\n",
       "</table>\n",
       "</div>"
      ],
      "text/plain": [
       "   time_created date_created  up_votes  down_votes  \\\n",
       "0    1201232046   2008-01-25         3           0   \n",
       "1    1201232075   2008-01-25         2           0   \n",
       "2    1201232523   2008-01-25         3           0   \n",
       "3    1201233290   2008-01-25         1           0   \n",
       "4    1201274720   2008-01-25         4           0   \n",
       "\n",
       "                                             title  over_18    author  \\\n",
       "0                Scores killed in Pakistan clashes    False     polar   \n",
       "1                 Japan resumes refuelling mission    False     polar   \n",
       "2                  US presses Egypt on Gaza border    False     polar   \n",
       "3     Jump-start economy: Give health care to all     False   fadi420   \n",
       "4  Council of Europe bashes EU&UN terror blacklist    False  mhermans   \n",
       "\n",
       "   subreddit  \n",
       "0  worldnews  \n",
       "1  worldnews  \n",
       "2  worldnews  \n",
       "3  worldnews  \n",
       "4  worldnews  "
      ]
     },
     "execution_count": 10,
     "metadata": {},
     "output_type": "execute_result"
    }
   ],
   "source": [
    "df.head()"
   ]
  },
  {
   "cell_type": "code",
   "execution_count": 11,
   "id": "2c9b5cb1",
   "metadata": {},
   "outputs": [
    {
     "data": {
      "text/plain": [
       "(509236, 8)"
      ]
     },
     "execution_count": 11,
     "metadata": {},
     "output_type": "execute_result"
    }
   ],
   "source": [
    "df.shape"
   ]
  },
  {
   "cell_type": "code",
   "execution_count": 12,
   "id": "b6008d00",
   "metadata": {},
   "outputs": [],
   "source": [
    "# take title column\n",
    "news_titles = df['title'].values"
   ]
  },
  {
   "cell_type": "code",
   "execution_count": 13,
   "id": "d54ebad2",
   "metadata": {},
   "outputs": [
    {
     "data": {
      "text/plain": [
       "array(['Scores killed in Pakistan clashes',\n",
       "       'Japan resumes refuelling mission',\n",
       "       'US presses Egypt on Gaza border',\n",
       "       'Jump-start economy: Give health care to all ',\n",
       "       'Council of Europe bashes EU&UN terror blacklist'], dtype=object)"
      ]
     },
     "execution_count": 13,
     "metadata": {},
     "output_type": "execute_result"
    }
   ],
   "source": [
    "news_titles[:5]"
   ]
  },
  {
   "cell_type": "code",
   "execution_count": 14,
   "id": "88912509",
   "metadata": {},
   "outputs": [],
   "source": [
    "# tokenize the words\n",
    "new_vec = [nltk.word_tokenize(title) for title in news_titles]"
   ]
  },
  {
   "cell_type": "code",
   "execution_count": 15,
   "id": "b1f5aa61",
   "metadata": {},
   "outputs": [
    {
     "data": {
      "text/plain": [
       "['Scores', 'killed', 'in', 'Pakistan', 'clashes']"
      ]
     },
     "execution_count": 15,
     "metadata": {},
     "output_type": "execute_result"
    }
   ],
   "source": [
    "new_vec[0]"
   ]
  },
  {
   "cell_type": "markdown",
   "id": "d5ca32a5",
   "metadata": {},
   "source": [
    "# Build the model"
   ]
  },
  {
   "cell_type": "code",
   "execution_count": 23,
   "id": "707bf028",
   "metadata": {},
   "outputs": [],
   "source": [
    "model = Word2Vec(new_vec, min_count=1, vector_size=100)\n",
    "# text, min word count, size of each vector (hyperparameter to tune. A common value used is 100)"
   ]
  },
  {
   "cell_type": "markdown",
   "id": "b2c2d6a0",
   "metadata": {},
   "source": [
    "# Predict the output"
   ]
  },
  {
   "cell_type": "code",
   "execution_count": 24,
   "id": "c7cb5781",
   "metadata": {
    "scrolled": true
   },
   "outputs": [
    {
     "data": {
      "text/plain": [
       "[('woman', 0.9048051834106445),\n",
       " ('boy', 0.8304983377456665),\n",
       " ('girl', 0.827724277973175),\n",
       " ('teenager', 0.8235151767730713),\n",
       " ('couple', 0.7952603101730347),\n",
       " ('doctor', 0.7488182187080383),\n",
       " ('teacher', 0.7453435063362122),\n",
       " ('teen', 0.7411636114120483),\n",
       " ('mother', 0.7345369458198547),\n",
       " ('driver', 0.7093431353569031)]"
      ]
     },
     "execution_count": 24,
     "metadata": {},
     "output_type": "execute_result"
    }
   ],
   "source": [
    "# find 10 closest words in the vector space that we have created\n",
    "model.wv.most_similar('man')"
   ]
  },
  {
   "cell_type": "code",
   "execution_count": 25,
   "id": "2f77d84f",
   "metadata": {},
   "outputs": [
    {
     "data": {
      "text/plain": [
       "array([ 1.2022357 , -1.9531151 , -1.3032073 , -0.357635  , -0.3879431 ,\n",
       "        1.4413354 , -3.0378618 , -0.28517362, -0.8722151 , -0.99969137,\n",
       "       -0.25868368, -3.6810422 , -0.8771309 ,  2.5960824 , -0.9217453 ,\n",
       "        1.5217942 , -2.2901084 , -1.7163441 ,  0.68781966,  2.5760813 ,\n",
       "        1.4611269 ,  0.5131346 , -0.5405843 , -0.23063594,  1.0075289 ,\n",
       "       -1.9043963 ,  2.2783153 ,  1.1931536 ,  0.10202156, -1.5299826 ,\n",
       "        0.9139097 , -0.08548339,  2.2486281 , -2.2369635 ,  0.22228485,\n",
       "        0.42894083,  2.2536879 , -0.2618547 ,  0.14762653, -0.97830254,\n",
       "        0.36454132,  0.94663256,  0.68910116, -1.0146148 ,  1.168846  ,\n",
       "        1.7038828 , -0.1252899 ,  0.7421795 , -0.8120384 , -1.0439591 ,\n",
       "       -0.83129984, -0.48142463,  2.522911  , -1.5581205 ,  1.4746598 ,\n",
       "        0.9430515 , -0.50585604,  1.0071683 , -1.6139259 ,  6.079936  ,\n",
       "        0.99226075,  2.6022828 ,  0.90026826, -0.24722774,  1.9299597 ,\n",
       "       -2.0501428 ,  0.11644725,  1.6399509 ,  2.4248176 ,  3.0605288 ,\n",
       "       -0.8418646 ,  0.3267722 , -1.1712157 ,  0.3002761 , -3.134988  ,\n",
       "        2.088687  , -0.4088022 , -3.6173823 ,  1.5587263 , -4.076926  ,\n",
       "       -0.38618368,  0.5502218 ,  0.42489254,  0.08458567, -0.70546085,\n",
       "        0.37052184,  0.46826914, -0.14498031, -0.33393124,  0.8133855 ,\n",
       "       -2.2083533 ,  0.8966292 ,  0.10666136,  3.226168  , -1.8274493 ,\n",
       "       -0.11182543,  0.03509669, -2.3221376 ,  2.515623  ,  0.9872436 ],\n",
       "      dtype=float32)"
      ]
     },
     "execution_count": 25,
     "metadata": {},
     "output_type": "execute_result"
    }
   ],
   "source": [
    "# see the vector\n",
    "model.wv['man']\n",
    "\n",
    "# so this is how man is represented in our vector space"
   ]
  },
  {
   "cell_type": "code",
   "execution_count": 26,
   "id": "7ea60b2e",
   "metadata": {},
   "outputs": [
    {
     "data": {
      "text/plain": [
       "[('women', 0.691999077796936),\n",
       " ('clerics', 0.5552812218666077),\n",
       " ('education', 0.5507354140281677),\n",
       " ('religious', 0.5397980213165283),\n",
       " ('gender', 0.5326113104820251),\n",
       " ('Women', 0.5247071385383606),\n",
       " ('equality', 0.5219236612319946),\n",
       " ('equal', 0.5121164321899414),\n",
       " ('freedoms', 0.5116507411003113),\n",
       " ('minorities', 0.49054455757141113)]"
      ]
     },
     "execution_count": 26,
     "metadata": {},
     "output_type": "execute_result"
    }
   ],
   "source": [
    "# let us try the famous relationship\n",
    "vec = model.wv['king'] - model.wv['man'] + model.wv['women']\n",
    "model.wv.most_similar([vec])"
   ]
  },
  {
   "cell_type": "code",
   "execution_count": 27,
   "id": "05864410",
   "metadata": {},
   "outputs": [
    {
     "data": {
      "text/plain": [
       "[('Germany', 0.8278080821037292),\n",
       " ('Paris', 0.8242901563644409),\n",
       " ('France', 0.819098949432373),\n",
       " ('Belgium', 0.7579799294471741),\n",
       " ('Sweden', 0.7318070530891418),\n",
       " ('Brussels', 0.7167997360229492),\n",
       " ('Britain', 0.6988443732261658),\n",
       " ('Norway', 0.6732777953147888),\n",
       " ('Switzerland', 0.6563703417778015),\n",
       " ('Europe', 0.6501398086547852)]"
      ]
     },
     "execution_count": 27,
     "metadata": {},
     "output_type": "execute_result"
    }
   ],
   "source": [
    "# Relationship\n",
    "vec = model.wv['Germany'] - model.wv['Berlin'] + model.wv['Paris']\n",
    "model.wv.most_similar([vec])"
   ]
  },
  {
   "cell_type": "code",
   "execution_count": 28,
   "id": "688154c5",
   "metadata": {},
   "outputs": [
    {
     "data": {
      "text/plain": [
       "[('226', 0.5915577411651611),\n",
       " ('encircling', 0.5417653322219849),\n",
       " ('Vujadin', 0.5387526750564575),\n",
       " ('prematurely', 0.5305230617523193),\n",
       " ('Messi', 0.5253174901008606),\n",
       " ('223', 0.5246443748474121),\n",
       " ('lasts', 0.5243546366691589),\n",
       " ('paraplegic', 0.524090051651001),\n",
       " ('4yo', 0.5218325257301331),\n",
       " ('241', 0.5172705054283142)]"
      ]
     },
     "execution_count": 28,
     "metadata": {},
     "output_type": "execute_result"
    }
   ],
   "source": [
    "# Relationship\n",
    "vec = model.wv['Messi'] - model.wv['Football'] + model.wv['Cricket']\n",
    "model.wv.most_similar([vec])"
   ]
  },
  {
   "cell_type": "code",
   "execution_count": null,
   "id": "9ffa2408",
   "metadata": {},
   "outputs": [],
   "source": []
  },
  {
   "cell_type": "code",
   "execution_count": null,
   "id": "0d0cf3da",
   "metadata": {},
   "outputs": [],
   "source": []
  }
 ],
 "metadata": {
  "kernelspec": {
   "display_name": "Python 3 (ipykernel)",
   "language": "python",
   "name": "python3"
  },
  "language_info": {
   "codemirror_mode": {
    "name": "ipython",
    "version": 3
   },
   "file_extension": ".py",
   "mimetype": "text/x-python",
   "name": "python",
   "nbconvert_exporter": "python",
   "pygments_lexer": "ipython3",
   "version": "3.10.9"
  }
 },
 "nbformat": 4,
 "nbformat_minor": 5
}
