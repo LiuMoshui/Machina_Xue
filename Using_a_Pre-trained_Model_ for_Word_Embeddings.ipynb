{
 "cells": [
  {
   "cell_type": "code",
   "execution_count": 1,
   "id": "8e197ccf",
   "metadata": {},
   "outputs": [],
   "source": [
    "import gensim\n",
    "from gensim.models import Word2Vec, KeyedVectors\n",
    "import os"
   ]
  },
  {
   "cell_type": "markdown",
   "id": "de267368",
   "metadata": {},
   "source": [
    "# Data Preprocessing"
   ]
  },
  {
   "cell_type": "code",
   "execution_count": 2,
   "id": "541fe917",
   "metadata": {},
   "outputs": [],
   "source": [
    "# google pretrained model\n",
    "\n",
    "# https://www.kaggle.com/umbertogriffo/googles-trained-word2vec-model-in-python"
   ]
  },
  {
   "cell_type": "code",
   "execution_count": 2,
   "id": "997f7cf2",
   "metadata": {},
   "outputs": [
    {
     "name": "stdout",
     "output_type": "stream",
     "text": [
      "googles-trained-word2vec-model-in-python.zip: Skipping, found more recently modified local copy (use --force to force download)\n"
     ]
    }
   ],
   "source": [
    "# import the dataset\n",
    "! kaggle datasets download -d umbertogriffo/googles-trained-word2vec-model-in-python"
   ]
  },
  {
   "cell_type": "code",
   "execution_count": 6,
   "id": "0616381c",
   "metadata": {},
   "outputs": [],
   "source": [
    "# unzip the dataset\n",
    "#!bsdtar -xf \"C:\\Users\\Chang.LAPTOP-KLP71L1N\\Documents\\AIE NLP Practical Course\\Word Embeddings\\googles-trained-word2vec-model-in-python.zip\""
   ]
  },
  {
   "cell_type": "markdown",
   "id": "a6149ed9",
   "metadata": {},
   "source": [
    "# Build the model"
   ]
  },
  {
   "cell_type": "code",
   "execution_count": 12,
   "id": "f2b7cb51",
   "metadata": {},
   "outputs": [],
   "source": [
    "model = KeyedVectors.load_word2vec_format(r\"C:\\Users\\Chang.LAPTOP-KLP71L1N\\Documents\\AIE NLP Practical Course\\Word Embeddings\\GoogleNews-vectors-negative300.bin\", binary=True, limit=100000)"
   ]
  },
  {
   "cell_type": "markdown",
   "id": "7747e602",
   "metadata": {},
   "source": [
    "# Predict the output"
   ]
  },
  {
   "cell_type": "code",
   "execution_count": 13,
   "id": "595870ff",
   "metadata": {},
   "outputs": [
    {
     "data": {
      "text/plain": [
       "[('woman', 0.7664012908935547),\n",
       " ('boy', 0.6824870705604553),\n",
       " ('teenager', 0.6586930751800537),\n",
       " ('teenage_girl', 0.6147903203964233),\n",
       " ('girl', 0.5921714305877686),\n",
       " ('robber', 0.5585118532180786),\n",
       " ('teen_ager', 0.5549197196960449),\n",
       " ('men', 0.5489763021469116),\n",
       " ('guy', 0.5420035123825073),\n",
       " ('person', 0.5342026352882385)]"
      ]
     },
     "execution_count": 13,
     "metadata": {},
     "output_type": "execute_result"
    }
   ],
   "source": [
    "# find 10 closest words in the vector space that we have created\n",
    "model.most_similar('man')"
   ]
  },
  {
   "cell_type": "code",
   "execution_count": 14,
   "id": "ab2f4e03",
   "metadata": {},
   "outputs": [
    {
     "data": {
      "text/plain": [
       "300"
      ]
     },
     "execution_count": 14,
     "metadata": {},
     "output_type": "execute_result"
    }
   ],
   "source": [
    "# see the vector\n",
    "len(model['man'])\n",
    "\n",
    "# so this is how man is represented in our vector space"
   ]
  },
  {
   "cell_type": "code",
   "execution_count": 15,
   "id": "2b5b8681",
   "metadata": {},
   "outputs": [
    {
     "data": {
      "text/plain": [
       "[('king', 0.6478991508483887),\n",
       " ('queen', 0.535493791103363),\n",
       " ('women', 0.52336585521698),\n",
       " ('kings', 0.5162314772605896),\n",
       " ('queens', 0.499536395072937),\n",
       " ('princes', 0.4623326361179352),\n",
       " ('monarch', 0.45280295610427856),\n",
       " ('monarchy', 0.429317444562912),\n",
       " ('crown_prince', 0.42302513122558594),\n",
       " ('womens', 0.41756653785705566)]"
      ]
     },
     "execution_count": 15,
     "metadata": {},
     "output_type": "execute_result"
    }
   ],
   "source": [
    "# let us try the famous relationship\n",
    "vec = model['king'] - model['man'] + model['women']\n",
    "model.most_similar([vec])"
   ]
  },
  {
   "cell_type": "code",
   "execution_count": 16,
   "id": "3346fed3",
   "metadata": {},
   "outputs": [
    {
     "data": {
      "text/plain": [
       "[('France', 0.7724406123161316),\n",
       " ('Paris', 0.6798242330551147),\n",
       " ('Belgium', 0.5984860062599182),\n",
       " ('Germany', 0.5652832984924316),\n",
       " ('Spain', 0.550815761089325),\n",
       " ('Italy', 0.5462924838066101),\n",
       " ('Marseille', 0.5372347235679626),\n",
       " ('Switzerland', 0.5364957451820374),\n",
       " ('French', 0.5346112847328186),\n",
       " ('Morocco', 0.5051252245903015)]"
      ]
     },
     "execution_count": 16,
     "metadata": {},
     "output_type": "execute_result"
    }
   ],
   "source": [
    "# Relationship\n",
    "vec = model['Germany'] - model['Berlin'] + model['Paris']\n",
    "model.most_similar([vec])"
   ]
  },
  {
   "cell_type": "code",
   "execution_count": 17,
   "id": "2ba5ac38",
   "metadata": {},
   "outputs": [
    {
     "data": {
      "text/plain": [
       "[('Messi', 0.7382574677467346),\n",
       " ('Sehwag', 0.6777454614639282),\n",
       " ('Tendulkar', 0.674822211265564),\n",
       " ('Xavi', 0.6610832810401917),\n",
       " ('Dravid', 0.6569645404815674),\n",
       " ('Dhoni', 0.6550688147544861),\n",
       " ('Lionel_Messi', 0.6407608985900879),\n",
       " ('Forlan', 0.6406108736991882),\n",
       " ('Yuvraj', 0.6390378475189209),\n",
       " ('Ponting', 0.6390198469161987)]"
      ]
     },
     "execution_count": 17,
     "metadata": {},
     "output_type": "execute_result"
    }
   ],
   "source": [
    "# Relationship\n",
    "\n",
    "vec = model['Messi'] - model['Football'] + model['Cricket']\n",
    "model.most_similar([vec])"
   ]
  },
  {
   "cell_type": "code",
   "execution_count": null,
   "id": "35244a46",
   "metadata": {},
   "outputs": [],
   "source": []
  }
 ],
 "metadata": {
  "kernelspec": {
   "display_name": "Python 3 (ipykernel)",
   "language": "python",
   "name": "python3"
  },
  "language_info": {
   "codemirror_mode": {
    "name": "ipython",
    "version": 3
   },
   "file_extension": ".py",
   "mimetype": "text/x-python",
   "name": "python",
   "nbconvert_exporter": "python",
   "pygments_lexer": "ipython3",
   "version": "3.10.9"
  }
 },
 "nbformat": 4,
 "nbformat_minor": 5
}
