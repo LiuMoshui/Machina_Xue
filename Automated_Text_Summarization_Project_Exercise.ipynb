{
 "cells": [
  {
   "cell_type": "code",
   "execution_count": 1,
   "id": "41306925",
   "metadata": {},
   "outputs": [],
   "source": [
    "text = \"\"\" Maria Sharapova has basically no friends as tennis players on the WTA Tour. The Russian player has no problems in openly speaking about it and in a recent interview she said: ‘I don’t really hide any feelings too much.\n",
    "I think everyone knows this is my job here. When I’m on the courts or when I’m on the court playing, I’m a competitor and I want to beat every single person whether they’re in the locker room or across the net.\n",
    "So I’m not the one to strike up a conversation about the weather and know that in the next few minutes I have to go and try to win a tennis match.\n",
    "I’m a pretty competitive girl. I say my hellos, but I’m not sending any players flowers as well. Uhm, I’m not really friendly or close to many players.\n",
    "I have not a lot of friends away from the courts.’ When she said she is not really close to a lot of players, is that something strategic that she is doing? Is it different on the men’s tour than the women’s tour? ‘No, not at all.\n",
    "I think just because you’re in the same sport doesn’t mean that you have to be friends with everyone just because you’re categorized, you’re a tennis player, so you’re going to get along with tennis players.\n",
    "I think every person has different interests. I have friends that have completely different jobs and interests, and I’ve met them in very different parts of my life.\n",
    "I think everyone just thinks because we’re tennis players we should be the greatest of friends. But ultimately tennis is just a very small part of what we do.\n",
    "There are so many other things that we’re interested in, that we do. \"\"\""
   ]
  },
  {
   "cell_type": "code",
   "execution_count": 2,
   "id": "5ebc1e6d",
   "metadata": {},
   "outputs": [
    {
     "data": {
      "text/plain": [
       "1563"
      ]
     },
     "execution_count": 2,
     "metadata": {},
     "output_type": "execute_result"
    }
   ],
   "source": [
    "len(text)"
   ]
  },
  {
   "cell_type": "code",
   "execution_count": 3,
   "id": "7001e740",
   "metadata": {},
   "outputs": [],
   "source": [
    "import spacy\n",
    "from spacy.lang.en.stop_words import STOP_WORDS\n",
    "from string import punctuation"
   ]
  },
  {
   "cell_type": "code",
   "execution_count": 4,
   "id": "72c4ec19",
   "metadata": {},
   "outputs": [],
   "source": [
    "nlp = spacy.load(\"en_core_web_sm\")"
   ]
  },
  {
   "cell_type": "code",
   "execution_count": 5,
   "id": "197b2d0f",
   "metadata": {},
   "outputs": [],
   "source": [
    "# Processing the text using spacy\n",
    "doc = nlp(text)"
   ]
  },
  {
   "cell_type": "code",
   "execution_count": 6,
   "id": "bcbcb855",
   "metadata": {},
   "outputs": [
    {
     "name": "stdout",
     "output_type": "stream",
     "text": [
      "[' ', 'Maria', 'Sharapova', 'has', 'basically', 'no', 'friends', 'as', 'tennis', 'players', 'on', 'the', 'WTA', 'Tour', '.', 'The', 'Russian', 'player', 'has', 'no', 'problems', 'in', 'openly', 'speaking', 'about', 'it', 'and', 'in', 'a', 'recent', 'interview', 'she', 'said', ':', '‘', 'I', 'do', 'n’t', 'really', 'hide', 'any', 'feelings', 'too', 'much', '.', '\\n', 'I', 'think', 'everyone', 'knows', 'this', 'is', 'my', 'job', 'here', '.', 'When', 'I', '’m', 'on', 'the', 'courts', 'or', 'when', 'I', '’m', 'on', 'the', 'court', 'playing', ',', 'I', '’m', 'a', 'competitor', 'and', 'I', 'want', 'to', 'beat', 'every', 'single', 'person', 'whether', 'they', '’re', 'in', 'the', 'locker', 'room', 'or', 'across', 'the', 'net', '.', '\\n', 'So', 'I', '’m', 'not', 'the', 'one', 'to', 'strike', 'up', 'a', 'conversation', 'about', 'the', 'weather', 'and', 'know', 'that', 'in', 'the', 'next', 'few', 'minutes', 'I', 'have', 'to', 'go', 'and', 'try', 'to', 'win', 'a', 'tennis', 'match', '.', '\\n', 'I', '’m', 'a', 'pretty', 'competitive', 'girl', '.', 'I', 'say', 'my', 'hellos', ',', 'but', 'I', '’m', 'not', 'sending', 'any', 'players', 'flowers', 'as', 'well', '.', 'Uhm', ',', 'I', '’m', 'not', 'really', 'friendly', 'or', 'close', 'to', 'many', 'players', '.', '\\n', 'I', 'have', 'not', 'a', 'lot', 'of', 'friends', 'away', 'from', 'the', 'courts', '.', '’', 'When', 'she', 'said', 'she', 'is', 'not', 'really', 'close', 'to', 'a', 'lot', 'of', 'players', ',', 'is', 'that', 'something', 'strategic', 'that', 'she', 'is', 'doing', '?', 'Is', 'it', 'different', 'on', 'the', 'men', '’s', 'tour', 'than', 'the', 'women', '’s', 'tour', '?', '‘', 'No', ',', 'not', 'at', 'all', '.', '\\n', 'I', 'think', 'just', 'because', 'you', '’re', 'in', 'the', 'same', 'sport', 'does', 'n’t', 'mean', 'that', 'you', 'have', 'to', 'be', 'friends', 'with', 'everyone', 'just', 'because', 'you', '’re', 'categorized', ',', 'you', '’re', 'a', 'tennis', 'player', ',', 'so', 'you', '’re', 'going', 'to', 'get', 'along', 'with', 'tennis', 'players', '.', '\\n', 'I', 'think', 'every', 'person', 'has', 'different', 'interests', '.', 'I', 'have', 'friends', 'that', 'have', 'completely', 'different', 'jobs', 'and', 'interests', ',', 'and', 'I', '’ve', 'met', 'them', 'in', 'very', 'different', 'parts', 'of', 'my', 'life', '.', '\\n', 'I', 'think', 'everyone', 'just', 'thinks', 'because', 'we', '’re', 'tennis', 'players', 'we', 'should', 'be', 'the', 'greatest', 'of', 'friends', '.', 'But', 'ultimately', 'tennis', 'is', 'just', 'a', 'very', 'small', 'part', 'of', 'what', 'we', 'do', '.', '\\n', 'There', 'are', 'so', 'many', 'other', 'things', 'that', 'we', '’re', 'interested', 'in', ',', 'that', 'we', 'do', '.']\n"
     ]
    }
   ],
   "source": [
    "# Extract the tokens from the processed text\n",
    "tokens = [token.text for token in doc]\n",
    "print(tokens)\n",
    "\n",
    "# the punctuation & stop words are also tokens"
   ]
  },
  {
   "cell_type": "code",
   "execution_count": 16,
   "id": "23033cef",
   "metadata": {},
   "outputs": [],
   "source": [
    "punctuation += '\\n'"
   ]
  },
  {
   "cell_type": "code",
   "execution_count": 17,
   "id": "5c883e02",
   "metadata": {},
   "outputs": [
    {
     "data": {
      "text/plain": [
       "'!\"#$%&\\'()*+,-./:;<=>?@[\\\\]^_`{|}~\\n\\'\\'\\n'"
      ]
     },
     "execution_count": 17,
     "metadata": {},
     "output_type": "execute_result"
    }
   ],
   "source": [
    "punctuation"
   ]
  },
  {
   "cell_type": "code",
   "execution_count": 35,
   "id": "07102a16",
   "metadata": {},
   "outputs": [
    {
     "data": {
      "text/plain": [
       "'!\"#$%&\\'()*+,-./:;<=>?@[\\\\]^_`{|}~\\n\\'\\'\\n\\'\\''"
      ]
     },
     "execution_count": 35,
     "metadata": {},
     "output_type": "execute_result"
    }
   ],
   "source": [
    "# Final punctuation string for text cleaning\n",
    "punctuation"
   ]
  },
  {
   "cell_type": "markdown",
   "id": "671b1491",
   "metadata": {},
   "source": [
    "# Text cleaning"
   ]
  },
  {
   "cell_type": "code",
   "execution_count": 51,
   "id": "f4c6d173",
   "metadata": {},
   "outputs": [],
   "source": [
    "# Initialize an empty dictionary to store word frequencies\n",
    "word_freq = {}\n",
    "\n",
    "# Create a list of stop words\n",
    "stop_words = list(STOP_WORDS)\n",
    "\n",
    "# Iterate over each word in the doc object\n",
    "for word in doc:\n",
    "  if word.text.lower() not in stop_words: # Check if the word is not a stop word or punctuation\n",
    "    if word.text.lower() not in punctuation:\n",
    "      if word.text not in word_freq.keys():  # Check if the word is already in the dictionary\n",
    "        word_freq[word.text] = 1  # Add the word to the dictionary with a value of 1\n",
    "      else:\n",
    "        word_freq[word.text] += 1   # Increment the value of the word by 1"
   ]
  },
  {
   "cell_type": "code",
   "execution_count": 21,
   "id": "79219c13",
   "metadata": {},
   "outputs": [
    {
     "name": "stdout",
     "output_type": "stream",
     "text": [
      "{' ': 1, 'Maria': 1, 'Sharapova': 1, 'basically': 1, 'friends': 5, 'tennis': 6, 'players': 6, 'WTA': 1, 'Tour': 1, 'Russian': 1, 'player': 2, 'problems': 1, 'openly': 1, 'speaking': 1, 'recent': 1, 'interview': 1, 'said': 2, '‘': 2, 'hide': 1, 'feelings': 1, 'think': 4, 'knows': 1, 'job': 1, 'courts': 2, 'court': 1, 'playing': 1, 'competitor': 1, 'want': 1, 'beat': 1, 'single': 1, 'person': 2, 'locker': 1, 'room': 1, 'net': 1, 'strike': 1, 'conversation': 1, 'weather': 1, 'know': 1, 'minutes': 1, 'try': 1, 'win': 1, 'match': 1, 'pretty': 1, 'competitive': 1, 'girl': 1, 'hellos': 1, 'sending': 1, 'flowers': 1, 'Uhm': 1, 'friendly': 1, 'close': 2, 'lot': 2, 'away': 1, '’': 1, 'strategic': 1, 'different': 4, 'men': 1, 'tour': 2, 'women': 1, 'sport': 1, 'mean': 1, 'categorized': 1, 'going': 1, 'interests': 2, 'completely': 1, 'jobs': 1, 'met': 1, 'parts': 1, 'life': 1, 'thinks': 1, 'greatest': 1, 'ultimately': 1, 'small': 1, 'things': 1, 'interested': 1}\n"
     ]
    }
   ],
   "source": [
    "print(word_freq)"
   ]
  },
  {
   "cell_type": "code",
   "execution_count": 22,
   "id": "27bbc430",
   "metadata": {},
   "outputs": [],
   "source": [
    "# Get the maximum frequency from the word frequency dictionary\n",
    "max_freq = max(word_freq.values())"
   ]
  },
  {
   "cell_type": "code",
   "execution_count": 52,
   "id": "88211353",
   "metadata": {},
   "outputs": [],
   "source": [
    "# Normalize the frequency of each word by dividing it with the maximum frequency\n",
    "for word in word_freq.keys():\n",
    "  word_freq[word] = word_freq[word] / max_freq"
   ]
  },
  {
   "cell_type": "code",
   "execution_count": 25,
   "id": "ea648490",
   "metadata": {},
   "outputs": [
    {
     "data": {
      "text/plain": [
       "{' ': 0.16666666666666666,\n",
       " 'Maria': 0.16666666666666666,\n",
       " 'Sharapova': 0.16666666666666666,\n",
       " 'basically': 0.16666666666666666,\n",
       " 'friends': 0.8333333333333334,\n",
       " 'tennis': 1.0,\n",
       " 'players': 1.0,\n",
       " 'WTA': 0.16666666666666666,\n",
       " 'Tour': 0.16666666666666666,\n",
       " 'Russian': 0.16666666666666666,\n",
       " 'player': 0.3333333333333333,\n",
       " 'problems': 0.16666666666666666,\n",
       " 'openly': 0.16666666666666666,\n",
       " 'speaking': 0.16666666666666666,\n",
       " 'recent': 0.16666666666666666,\n",
       " 'interview': 0.16666666666666666,\n",
       " 'said': 0.3333333333333333,\n",
       " '‘': 0.3333333333333333,\n",
       " 'hide': 0.16666666666666666,\n",
       " 'feelings': 0.16666666666666666,\n",
       " 'think': 0.6666666666666666,\n",
       " 'knows': 0.16666666666666666,\n",
       " 'job': 0.16666666666666666,\n",
       " 'courts': 0.3333333333333333,\n",
       " 'court': 0.16666666666666666,\n",
       " 'playing': 0.16666666666666666,\n",
       " 'competitor': 0.16666666666666666,\n",
       " 'want': 0.16666666666666666,\n",
       " 'beat': 0.16666666666666666,\n",
       " 'single': 0.16666666666666666,\n",
       " 'person': 0.3333333333333333,\n",
       " 'locker': 0.16666666666666666,\n",
       " 'room': 0.16666666666666666,\n",
       " 'net': 0.16666666666666666,\n",
       " 'strike': 0.16666666666666666,\n",
       " 'conversation': 0.16666666666666666,\n",
       " 'weather': 0.16666666666666666,\n",
       " 'know': 0.16666666666666666,\n",
       " 'minutes': 0.16666666666666666,\n",
       " 'try': 0.16666666666666666,\n",
       " 'win': 0.16666666666666666,\n",
       " 'match': 0.16666666666666666,\n",
       " 'pretty': 0.16666666666666666,\n",
       " 'competitive': 0.16666666666666666,\n",
       " 'girl': 0.16666666666666666,\n",
       " 'hellos': 0.16666666666666666,\n",
       " 'sending': 0.16666666666666666,\n",
       " 'flowers': 0.16666666666666666,\n",
       " 'Uhm': 0.16666666666666666,\n",
       " 'friendly': 0.16666666666666666,\n",
       " 'close': 0.3333333333333333,\n",
       " 'lot': 0.3333333333333333,\n",
       " 'away': 0.16666666666666666,\n",
       " '’': 0.16666666666666666,\n",
       " 'strategic': 0.16666666666666666,\n",
       " 'different': 0.6666666666666666,\n",
       " 'men': 0.16666666666666666,\n",
       " 'tour': 0.3333333333333333,\n",
       " 'women': 0.16666666666666666,\n",
       " 'sport': 0.16666666666666666,\n",
       " 'mean': 0.16666666666666666,\n",
       " 'categorized': 0.16666666666666666,\n",
       " 'going': 0.16666666666666666,\n",
       " 'interests': 0.3333333333333333,\n",
       " 'completely': 0.16666666666666666,\n",
       " 'jobs': 0.16666666666666666,\n",
       " 'met': 0.16666666666666666,\n",
       " 'parts': 0.16666666666666666,\n",
       " 'life': 0.16666666666666666,\n",
       " 'thinks': 0.16666666666666666,\n",
       " 'greatest': 0.16666666666666666,\n",
       " 'ultimately': 0.16666666666666666,\n",
       " 'small': 0.16666666666666666,\n",
       " 'things': 0.16666666666666666,\n",
       " 'interested': 0.16666666666666666}"
      ]
     },
     "execution_count": 25,
     "metadata": {},
     "output_type": "execute_result"
    }
   ],
   "source": [
    "word_freq"
   ]
  },
  {
   "cell_type": "markdown",
   "id": "789c3752",
   "metadata": {},
   "source": [
    "# Sentence tokenization"
   ]
  },
  {
   "cell_type": "code",
   "execution_count": 26,
   "id": "96a5fda3",
   "metadata": {},
   "outputs": [
    {
     "name": "stdout",
     "output_type": "stream",
     "text": [
      "[ Maria Sharapova has basically no friends as tennis players on the WTA Tour., The Russian player has no problems in openly speaking about it and in a recent interview she said: ‘I don’t really hide any feelings too much.\n",
      ", I think everyone knows this is my job here., When I’m on the courts or when I’m on the court playing, I’m a competitor and I want to beat every single person whether they’re in the locker room or across the net.\n",
      ", So I’m not the one to strike up a conversation about the weather and know that in the next few minutes I have to go and try to win a tennis match.\n",
      ", I’m a pretty competitive girl., I say my hellos, but I’m not sending any players flowers as well., Uhm, I’m not really friendly or close to many players.\n",
      ", I have not a lot of friends away from the courts.’, When she said she is not really close to a lot of players, is that something strategic that she is doing?, Is it different on the men’s tour than the women’s tour?, ‘No, not at all.\n",
      ", I think just because you’re in the same sport doesn’t mean that you have to be friends with everyone just because you’re categorized, you’re a tennis player, so you’re going to get along with tennis players.\n",
      ", I think every person has different interests., I have friends that have completely different jobs and interests, and I’ve met them in very different parts of my life.\n",
      ", I think everyone just thinks because we’re tennis players we should be the greatest of friends., But ultimately tennis is just a very small part of what we do.\n",
      ", There are so many other things that we’re interested in, that we do.]\n"
     ]
    }
   ],
   "source": [
    "# Extract individual sentence tokens from the parsed document\n",
    "\n",
    "sent_tokens = [sent for sent in doc.sents]\n",
    "print(sent_tokens)"
   ]
  },
  {
   "cell_type": "code",
   "execution_count": 29,
   "id": "328ac5b7",
   "metadata": {},
   "outputs": [],
   "source": [
    "# Calculate scores for each sentence based on the sum of frequencies of its words\n",
    "\n",
    "sent_score = {} # Initialize an empty dictionary to store scores for each sentence\n",
    "\n",
    "for sent in sent_tokens: # Iterate over each sentence in the sent_tokens list\n",
    "  for word in sent: # Iterate over each word in the current sentence\n",
    "    if word.text.lower()in word_freq.keys(): # Check if the lowercase form of the word exists in the word_freq dictionary\n",
    "      if sent not in sent_score.keys(): # Check if the current sentence is not already a key in the sent_score dictionary\n",
    "        sent_score[sent] = word_freq[word.text.lower()] # If not, initialize the sentence's score with the frequency of the current word\n",
    "      else:\n",
    "        sent_score[sent] += word_freq[word.text.lower()] # If the sentence is already in the dictionary, add the frequency of the current word to its score "
   ]
  },
  {
   "cell_type": "code",
   "execution_count": 31,
   "id": "de1ca258",
   "metadata": {},
   "outputs": [
    {
     "data": {
      "text/plain": [
       "{ Maria Sharapova has basically no friends as tennis players on the WTA Tour.: 7.0,\n",
       " The Russian player has no problems in openly speaking about it and in a recent interview she said: ‘I don’t really hide any feelings too much.: 4.333333333333333,\n",
       " I think everyone knows this is my job here.: 2.0,\n",
       " When I’m on the courts or when I’m on the court playing, I’m a competitor and I want to beat every single person whether they’re in the locker room or across the net.: 4.333333333333333,\n",
       " So I’m not the one to strike up a conversation about the weather and know that in the next few minutes I have to go and try to win a tennis match.: 4.666666666666665,\n",
       " I’m a pretty competitive girl.: 0.9999999999999999,\n",
       " I say my hellos, but I’m not sending any players flowers as well.: 3.0,\n",
       " Uhm, I’m not really friendly or close to many players.: 3.0,\n",
       " I have not a lot of friends away from the courts.’: 3.666666666666667,\n",
       " When she said she is not really close to a lot of players, is that something strategic that she is doing?: 4.333333333333334,\n",
       " Is it different on the men’s tour than the women’s tour?: 3.333333333333333,\n",
       " ‘No, not at all.: 0.6666666666666666,\n",
       " I think just because you’re in the same sport doesn’t mean that you have to be friends with everyone just because you’re categorized, you’re a tennis player, so you’re going to get along with tennis players.: 11.0,\n",
       " I think every person has different interests.: 4.0,\n",
       " I have friends that have completely different jobs and interests, and I’ve met them in very different parts of my life.: 6.666666666666668,\n",
       " I think everyone just thinks because we’re tennis players we should be the greatest of friends.: 7.666666666666667,\n",
       " But ultimately tennis is just a very small part of what we do.: 2.6666666666666665,\n",
       " There are so many other things that we’re interested in, that we do.: 0.6666666666666666}"
      ]
     },
     "execution_count": 31,
     "metadata": {},
     "output_type": "execute_result"
    }
   ],
   "source": [
    "sent_score"
   ]
  },
  {
   "cell_type": "markdown",
   "id": "b6fb881b",
   "metadata": {},
   "source": [
    "# Select 30% sentences with maximum score"
   ]
  },
  {
   "cell_type": "code",
   "execution_count": 36,
   "id": "bfd3c779",
   "metadata": {},
   "outputs": [],
   "source": [
    "from heapq import nlargest"
   ]
  },
  {
   "cell_type": "code",
   "execution_count": 37,
   "id": "3d44a0bf",
   "metadata": {},
   "outputs": [
    {
     "data": {
      "text/plain": [
       "5.3999999999999995"
      ]
     },
     "execution_count": 37,
     "metadata": {},
     "output_type": "execute_result"
    }
   ],
   "source": [
    "# Calculate 30% of the total number of sentences in the sent_score dictionary\n",
    "len(sent_score) * 0.3"
   ]
  },
  {
   "cell_type": "markdown",
   "id": "1da677cb",
   "metadata": {},
   "source": [
    "# Getting the Summary"
   ]
  },
  {
   "cell_type": "code",
   "execution_count": 38,
   "id": "94caf9cb",
   "metadata": {},
   "outputs": [],
   "source": [
    "# Get the six sentences with the highest scores from the sent_score dictionary\n",
    "summary = nlargest(n = 6, iterable = sent_score, key = sent_score.get)"
   ]
  },
  {
   "cell_type": "code",
   "execution_count": 39,
   "id": "7b6662cd",
   "metadata": {},
   "outputs": [
    {
     "name": "stdout",
     "output_type": "stream",
     "text": [
      "[I think just because you’re in the same sport doesn’t mean that you have to be friends with everyone just because you’re categorized, you’re a tennis player, so you’re going to get along with tennis players.\n",
      ", I think everyone just thinks because we’re tennis players we should be the greatest of friends.,  Maria Sharapova has basically no friends as tennis players on the WTA Tour., I have friends that have completely different jobs and interests, and I’ve met them in very different parts of my life.\n",
      ", So I’m not the one to strike up a conversation about the weather and know that in the next few minutes I have to go and try to win a tennis match.\n",
      ", When she said she is not really close to a lot of players, is that something strategic that she is doing?]\n"
     ]
    }
   ],
   "source": [
    "print(summary)"
   ]
  },
  {
   "cell_type": "code",
   "execution_count": 42,
   "id": "8d8a6eee",
   "metadata": {},
   "outputs": [],
   "source": [
    "# Extract the textual content of the six highest scoring sentences\n",
    "final_summary = [word.text for word in summary]"
   ]
  },
  {
   "cell_type": "code",
   "execution_count": 43,
   "id": "acb585b5",
   "metadata": {},
   "outputs": [
    {
     "name": "stdout",
     "output_type": "stream",
     "text": [
      "['I think just because you’re in the same sport doesn’t mean that you have to be friends with everyone just because you’re categorized, you’re a tennis player, so you’re going to get along with tennis players.\\n', 'I think everyone just thinks because we’re tennis players we should be the greatest of friends.', ' Maria Sharapova has basically no friends as tennis players on the WTA Tour.', 'I have friends that have completely different jobs and interests, and I’ve met them in very different parts of my life.\\n', 'So I’m not the one to strike up a conversation about the weather and know that in the next few minutes I have to go and try to win a tennis match.\\n', 'When she said she is not really close to a lot of players, is that something strategic that she is doing?']\n"
     ]
    }
   ],
   "source": [
    "print(final_summary)"
   ]
  },
  {
   "cell_type": "code",
   "execution_count": 45,
   "id": "063ad9aa",
   "metadata": {},
   "outputs": [],
   "source": [
    "# Join the sentences from final_summary to form a cohesive text\n",
    "summary = \" \".join(final_summary)"
   ]
  },
  {
   "cell_type": "code",
   "execution_count": 48,
   "id": "99964714",
   "metadata": {},
   "outputs": [
    {
     "name": "stdout",
     "output_type": "stream",
     "text": [
      "I think just because you’re in the same sport doesn’t mean that you have to be friends with everyone just because you’re categorized, you’re a tennis player, so you’re going to get along with tennis players.\n",
      " I think everyone just thinks because we’re tennis players we should be the greatest of friends.  Maria Sharapova has basically no friends as tennis players on the WTA Tour. I have friends that have completely different jobs and interests, and I’ve met them in very different parts of my life.\n",
      " So I’m not the one to strike up a conversation about the weather and know that in the next few minutes I have to go and try to win a tennis match.\n",
      " When she said she is not really close to a lot of players, is that something strategic that she is doing?\n"
     ]
    }
   ],
   "source": [
    "print(summary)"
   ]
  },
  {
   "cell_type": "code",
   "execution_count": 49,
   "id": "0b33cbe2",
   "metadata": {},
   "outputs": [
    {
     "data": {
      "text/plain": [
       "756"
      ]
     },
     "execution_count": 49,
     "metadata": {},
     "output_type": "execute_result"
    }
   ],
   "source": [
    "len(summary)"
   ]
  },
  {
   "cell_type": "code",
   "execution_count": 50,
   "id": "dedaeea5",
   "metadata": {},
   "outputs": [
    {
     "data": {
      "text/plain": [
       "0.4836852207293666"
      ]
     },
     "execution_count": 50,
     "metadata": {},
     "output_type": "execute_result"
    }
   ],
   "source": [
    "# Calculate the ratio of the summary length to the original text length\n",
    "len(summary)/ len(text)"
   ]
  },
  {
   "cell_type": "code",
   "execution_count": null,
   "id": "70f9e478",
   "metadata": {},
   "outputs": [],
   "source": []
  }
 ],
 "metadata": {
  "kernelspec": {
   "display_name": "Python 3 (ipykernel)",
   "language": "python",
   "name": "python3"
  },
  "language_info": {
   "codemirror_mode": {
    "name": "ipython",
    "version": 3
   },
   "file_extension": ".py",
   "mimetype": "text/x-python",
   "name": "python",
   "nbconvert_exporter": "python",
   "pygments_lexer": "ipython3",
   "version": "3.10.9"
  }
 },
 "nbformat": 4,
 "nbformat_minor": 5
}
